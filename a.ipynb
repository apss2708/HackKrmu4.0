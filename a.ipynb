{
 "cells": [
  {
   "cell_type": "code",
   "execution_count": 1245,
   "metadata": {},
   "outputs": [],
   "source": [
    "import pandas as pd\n",
    "import numpy as np\n",
    "from matplotlib import pyplot as plt\n",
    "%matplotlib inline\n",
    "import matplotlib\n",
    "matplotlib.rcParams[\"figure.figsize\"] = (20,10)\n",
    "import seaborn as sns\n"
   ]
  },
  {
   "cell_type": "code",
   "execution_count": 1246,
   "metadata": {},
   "outputs": [
    {
     "data": {
      "text/html": [
       "<div>\n",
       "<style scoped>\n",
       "    .dataframe tbody tr th:only-of-type {\n",
       "        vertical-align: middle;\n",
       "    }\n",
       "\n",
       "    .dataframe tbody tr th {\n",
       "        vertical-align: top;\n",
       "    }\n",
       "\n",
       "    .dataframe thead th {\n",
       "        text-align: right;\n",
       "    }\n",
       "</style>\n",
       "<table border=\"1\" class=\"dataframe\">\n",
       "  <thead>\n",
       "    <tr style=\"text-align: right;\">\n",
       "      <th></th>\n",
       "      <th>s no.</th>\n",
       "      <th>name of colony</th>\n",
       "      <th>residential land (Rs.PerSq. feet. (lakh))</th>\n",
       "      <th>commercial (Rs.PerSq. feet. (lakh))</th>\n",
       "      <th>Unnamed: 4</th>\n",
       "    </tr>\n",
       "  </thead>\n",
       "  <tbody>\n",
       "    <tr>\n",
       "      <th>0</th>\n",
       "      <td>1.0</td>\n",
       "      <td>Rly Fatak to Daultabad with M C Area</td>\n",
       "      <td>0.855</td>\n",
       "      <td>2.43</td>\n",
       "      <td>NaN</td>\n",
       "    </tr>\n",
       "    <tr>\n",
       "      <th>1</th>\n",
       "      <td>2.0</td>\n",
       "      <td>4 Marla</td>\n",
       "      <td>1.980</td>\n",
       "      <td>4.23</td>\n",
       "      <td>NaN</td>\n",
       "    </tr>\n",
       "    <tr>\n",
       "      <th>2</th>\n",
       "      <td>3.0</td>\n",
       "      <td>8 Marla</td>\n",
       "      <td>1.980</td>\n",
       "      <td>4.23</td>\n",
       "      <td>NaN</td>\n",
       "    </tr>\n",
       "    <tr>\n",
       "      <th>3</th>\n",
       "      <td>4.0</td>\n",
       "      <td>Acharya Puri</td>\n",
       "      <td>1.980</td>\n",
       "      <td>4.23</td>\n",
       "      <td>NaN</td>\n",
       "    </tr>\n",
       "    <tr>\n",
       "      <th>4</th>\n",
       "      <td>5.0</td>\n",
       "      <td>Adarsh Nagar</td>\n",
       "      <td>1.620</td>\n",
       "      <td>4.23</td>\n",
       "      <td>NaN</td>\n",
       "    </tr>\n",
       "  </tbody>\n",
       "</table>\n",
       "</div>"
      ],
      "text/plain": [
       "   s no.                        name of colony  \\\n",
       "0    1.0  Rly Fatak to Daultabad with M C Area   \n",
       "1    2.0                               4 Marla   \n",
       "2    3.0                               8 Marla   \n",
       "3    4.0                          Acharya Puri   \n",
       "4    5.0                          Adarsh Nagar   \n",
       "\n",
       "    residential land (Rs.PerSq. feet. (lakh))  \\\n",
       "0                                       0.855   \n",
       "1                                       1.980   \n",
       "2                                       1.980   \n",
       "3                                       1.980   \n",
       "4                                       1.620   \n",
       "\n",
       "   commercial (Rs.PerSq. feet. (lakh))  Unnamed: 4  \n",
       "0                                 2.43         NaN  \n",
       "1                                 4.23         NaN  \n",
       "2                                 4.23         NaN  \n",
       "3                                 4.23         NaN  \n",
       "4                                 4.23         NaN  "
      ]
     },
     "execution_count": 1246,
     "metadata": {},
     "output_type": "execute_result"
    }
   ],
   "source": [
    "df1 = pd.read_csv(\"1.csv\")\n",
    "df1.head()"
   ]
  },
  {
   "cell_type": "code",
   "execution_count": 1247,
   "metadata": {},
   "outputs": [
    {
     "data": {
      "text/html": [
       "<div>\n",
       "<style scoped>\n",
       "    .dataframe tbody tr th:only-of-type {\n",
       "        vertical-align: middle;\n",
       "    }\n",
       "\n",
       "    .dataframe tbody tr th {\n",
       "        vertical-align: top;\n",
       "    }\n",
       "\n",
       "    .dataframe thead th {\n",
       "        text-align: right;\n",
       "    }\n",
       "</style>\n",
       "<table border=\"1\" class=\"dataframe\">\n",
       "  <thead>\n",
       "    <tr style=\"text-align: right;\">\n",
       "      <th></th>\n",
       "      <th>s no.</th>\n",
       "      <th>name of village</th>\n",
       "      <th>agricultural land (CR)</th>\n",
       "      <th>residential land (Rs.PerSq. feet. (lakh))</th>\n",
       "      <th>commercial (Rs.PerSq. feet. (lakh))</th>\n",
       "    </tr>\n",
       "  </thead>\n",
       "  <tbody>\n",
       "    <tr>\n",
       "      <th>0</th>\n",
       "      <td>1</td>\n",
       "      <td>Adampur</td>\n",
       "      <td>2.4</td>\n",
       "      <td>1.62</td>\n",
       "      <td>14.58</td>\n",
       "    </tr>\n",
       "    <tr>\n",
       "      <th>1</th>\n",
       "      <td>2</td>\n",
       "      <td>Aklimpur</td>\n",
       "      <td>1.5</td>\n",
       "      <td>0.45</td>\n",
       "      <td>4.05</td>\n",
       "    </tr>\n",
       "    <tr>\n",
       "      <th>2</th>\n",
       "      <td>3</td>\n",
       "      <td>Babupur</td>\n",
       "      <td>1.7</td>\n",
       "      <td>0.90</td>\n",
       "      <td>8.10</td>\n",
       "    </tr>\n",
       "    <tr>\n",
       "      <th>3</th>\n",
       "      <td>4</td>\n",
       "      <td>Badshapur</td>\n",
       "      <td>2.2</td>\n",
       "      <td>1.53</td>\n",
       "      <td>13.77</td>\n",
       "    </tr>\n",
       "    <tr>\n",
       "      <th>4</th>\n",
       "      <td>5</td>\n",
       "      <td>Bajghera</td>\n",
       "      <td>1.9</td>\n",
       "      <td>0.90</td>\n",
       "      <td>8.10</td>\n",
       "    </tr>\n",
       "  </tbody>\n",
       "</table>\n",
       "</div>"
      ],
      "text/plain": [
       "   s no. name of village   agricultural land (CR)  \\\n",
       "0      1          Adampur                     2.4   \n",
       "1      2         Aklimpur                     1.5   \n",
       "2      3          Babupur                     1.7   \n",
       "3      4        Badshapur                     2.2   \n",
       "4      5         Bajghera                     1.9   \n",
       "\n",
       "   residential land (Rs.PerSq. feet. (lakh))  \\\n",
       "0                                       1.62   \n",
       "1                                       0.45   \n",
       "2                                       0.90   \n",
       "3                                       1.53   \n",
       "4                                       0.90   \n",
       "\n",
       "   commercial (Rs.PerSq. feet. (lakh))  \n",
       "0                                14.58  \n",
       "1                                 4.05  \n",
       "2                                 8.10  \n",
       "3                                13.77  \n",
       "4                                 8.10  "
      ]
     },
     "execution_count": 1247,
     "metadata": {},
     "output_type": "execute_result"
    }
   ],
   "source": [
    "df2 = pd.read_csv(\"2.csv\")\n",
    "df2.head()"
   ]
  },
  {
   "cell_type": "code",
   "execution_count": 1248,
   "metadata": {},
   "outputs": [
    {
     "data": {
      "text/html": [
       "<div>\n",
       "<style scoped>\n",
       "    .dataframe tbody tr th:only-of-type {\n",
       "        vertical-align: middle;\n",
       "    }\n",
       "\n",
       "    .dataframe tbody tr th {\n",
       "        vertical-align: top;\n",
       "    }\n",
       "\n",
       "    .dataframe thead th {\n",
       "        text-align: right;\n",
       "    }\n",
       "</style>\n",
       "<table border=\"1\" class=\"dataframe\">\n",
       "  <thead>\n",
       "    <tr style=\"text-align: right;\">\n",
       "      <th></th>\n",
       "      <th>s no.</th>\n",
       "      <th>huda sectors</th>\n",
       "      <th>residential land (Rs.PerSq. feet. (lakh))</th>\n",
       "      <th>commercial (Rs.PerSq. feet. (lakh))</th>\n",
       "    </tr>\n",
       "  </thead>\n",
       "  <tbody>\n",
       "    <tr>\n",
       "      <th>0</th>\n",
       "      <td>1</td>\n",
       "      <td>Sec-14,15,17,27,28,30,31,42,43</td>\n",
       "      <td>4.50</td>\n",
       "      <td>14.85</td>\n",
       "    </tr>\n",
       "    <tr>\n",
       "      <th>1</th>\n",
       "      <td>2</td>\n",
       "      <td>Sec-38,40,41,53,54</td>\n",
       "      <td>3.96</td>\n",
       "      <td>14.85</td>\n",
       "    </tr>\n",
       "    <tr>\n",
       "      <th>2</th>\n",
       "      <td>3</td>\n",
       "      <td>Sec-21,22,22A,23,23A,39,45,46,47,48,49,50,51,5...</td>\n",
       "      <td>3.42</td>\n",
       "      <td>14.85</td>\n",
       "    </tr>\n",
       "    <tr>\n",
       "      <th>3</th>\n",
       "      <td>4</td>\n",
       "      <td>Sec-1, 2,3, 3A,4, 5,7,9, 9A,10,10A,12,12A</td>\n",
       "      <td>2.97</td>\n",
       "      <td>12.15</td>\n",
       "    </tr>\n",
       "    <tr>\n",
       "      <th>4</th>\n",
       "      <td>5</td>\n",
       "      <td>Sec-29</td>\n",
       "      <td>0.00</td>\n",
       "      <td>19.80</td>\n",
       "    </tr>\n",
       "  </tbody>\n",
       "</table>\n",
       "</div>"
      ],
      "text/plain": [
       "   s no.                                       huda sectors  \\\n",
       "0      1                     Sec-14,15,17,27,28,30,31,42,43   \n",
       "1      2                                 Sec-38,40,41,53,54   \n",
       "2      3  Sec-21,22,22A,23,23A,39,45,46,47,48,49,50,51,5...   \n",
       "3      4          Sec-1, 2,3, 3A,4, 5,7,9, 9A,10,10A,12,12A   \n",
       "4      5                                             Sec-29   \n",
       "\n",
       "   residential land (Rs.PerSq. feet. (lakh))  \\\n",
       "0                                       4.50   \n",
       "1                                       3.96   \n",
       "2                                       3.42   \n",
       "3                                       2.97   \n",
       "4                                       0.00   \n",
       "\n",
       "   commercial (Rs.PerSq. feet. (lakh))  \n",
       "0                                14.85  \n",
       "1                                14.85  \n",
       "2                                14.85  \n",
       "3                                12.15  \n",
       "4                                19.80  "
      ]
     },
     "execution_count": 1248,
     "metadata": {},
     "output_type": "execute_result"
    }
   ],
   "source": [
    "df3 = pd.read_csv(\"3.csv\")\n",
    "df3.head()"
   ]
  },
  {
   "cell_type": "code",
   "execution_count": 1249,
   "metadata": {},
   "outputs": [
    {
     "data": {
      "text/html": [
       "<div>\n",
       "<style scoped>\n",
       "    .dataframe tbody tr th:only-of-type {\n",
       "        vertical-align: middle;\n",
       "    }\n",
       "\n",
       "    .dataframe tbody tr th {\n",
       "        vertical-align: top;\n",
       "    }\n",
       "\n",
       "    .dataframe thead th {\n",
       "        text-align: right;\n",
       "    }\n",
       "</style>\n",
       "<table border=\"1\" class=\"dataframe\">\n",
       "  <thead>\n",
       "    <tr style=\"text-align: right;\">\n",
       "      <th></th>\n",
       "      <th>s no.</th>\n",
       "      <th>plots in liscensed colonies</th>\n",
       "      <th>residential land (Rs.PerSq. feet. (lakh))</th>\n",
       "      <th>commercial (Rs.PerSq. feet. (lakh))</th>\n",
       "    </tr>\n",
       "  </thead>\n",
       "  <tbody>\n",
       "    <tr>\n",
       "      <th>0</th>\n",
       "      <td>NaN</td>\n",
       "      <td>NaN</td>\n",
       "      <td>NaN</td>\n",
       "      <td>NaN</td>\n",
       "    </tr>\n",
       "    <tr>\n",
       "      <th>1</th>\n",
       "      <td>1.0</td>\n",
       "      <td>DLF Phase-I,Sushant Lok-I</td>\n",
       "      <td>6.93</td>\n",
       "      <td>14.85</td>\n",
       "    </tr>\n",
       "    <tr>\n",
       "      <th>2</th>\n",
       "      <td>2.0</td>\n",
       "      <td>DLF Phase - II, IV &amp; V, Greenwood City,Nirvana...</td>\n",
       "      <td>6.48</td>\n",
       "      <td>14.85</td>\n",
       "    </tr>\n",
       "    <tr>\n",
       "      <th>3</th>\n",
       "      <td>3.0</td>\n",
       "      <td>DLF Phase - III, National Media Center</td>\n",
       "      <td>5.94</td>\n",
       "      <td>14.85</td>\n",
       "    </tr>\n",
       "    <tr>\n",
       "      <th>4</th>\n",
       "      <td>4.0</td>\n",
       "      <td>South City-II, Suncity (Sec-54), Rosewood City...</td>\n",
       "      <td>5.40</td>\n",
       "      <td>14.85</td>\n",
       "    </tr>\n",
       "  </tbody>\n",
       "</table>\n",
       "</div>"
      ],
      "text/plain": [
       "   s no.                        plots in liscensed colonies  \\\n",
       "0    NaN                                                NaN   \n",
       "1    1.0                          DLF Phase-I,Sushant Lok-I   \n",
       "2    2.0  DLF Phase - II, IV & V, Greenwood City,Nirvana...   \n",
       "3    3.0             DLF Phase - III, National Media Center   \n",
       "4    4.0  South City-II, Suncity (Sec-54), Rosewood City...   \n",
       "\n",
       "   residential land (Rs.PerSq. feet. (lakh))  \\\n",
       "0                                        NaN   \n",
       "1                                       6.93   \n",
       "2                                       6.48   \n",
       "3                                       5.94   \n",
       "4                                       5.40   \n",
       "\n",
       "   commercial (Rs.PerSq. feet. (lakh))  \n",
       "0                                  NaN  \n",
       "1                                14.85  \n",
       "2                                14.85  \n",
       "3                                14.85  \n",
       "4                                14.85  "
      ]
     },
     "execution_count": 1249,
     "metadata": {},
     "output_type": "execute_result"
    }
   ],
   "source": [
    "df4 = pd.read_csv(\"4.csv\")\n",
    "df4.head()"
   ]
  },
  {
   "cell_type": "code",
   "execution_count": 1250,
   "metadata": {},
   "outputs": [
    {
     "data": {
      "text/html": [
       "<div>\n",
       "<style scoped>\n",
       "    .dataframe tbody tr th:only-of-type {\n",
       "        vertical-align: middle;\n",
       "    }\n",
       "\n",
       "    .dataframe tbody tr th {\n",
       "        vertical-align: top;\n",
       "    }\n",
       "\n",
       "    .dataframe thead th {\n",
       "        text-align: right;\n",
       "    }\n",
       "</style>\n",
       "<table border=\"1\" class=\"dataframe\">\n",
       "  <thead>\n",
       "    <tr style=\"text-align: right;\">\n",
       "      <th></th>\n",
       "      <th>Price (CR)</th>\n",
       "      <th>Status</th>\n",
       "      <th>Area</th>\n",
       "      <th>Rate per sqft</th>\n",
       "      <th>Property Type</th>\n",
       "      <th>Locality</th>\n",
       "      <th>Builder Name</th>\n",
       "      <th>RERA Approval</th>\n",
       "      <th>BHK_Count</th>\n",
       "      <th>Society</th>\n",
       "      <th>Company Name</th>\n",
       "      <th>Flat Type</th>\n",
       "    </tr>\n",
       "  </thead>\n",
       "  <tbody>\n",
       "    <tr>\n",
       "      <th>0</th>\n",
       "      <td>1.07</td>\n",
       "      <td>Under Construction</td>\n",
       "      <td>1138</td>\n",
       "      <td>₹9,450.00</td>\n",
       "      <td>2 BHK Apartment in M3M Antalya Hills Phase I</td>\n",
       "      <td>Sector 79</td>\n",
       "      <td>home</td>\n",
       "      <td>Approved by RERA</td>\n",
       "      <td>2</td>\n",
       "      <td>M3M Antalya Hills Phase I</td>\n",
       "      <td>M3M</td>\n",
       "      <td>Apartment</td>\n",
       "    </tr>\n",
       "    <tr>\n",
       "      <th>1</th>\n",
       "      <td>1.44</td>\n",
       "      <td>Under Construction</td>\n",
       "      <td>1528</td>\n",
       "      <td>₹9,450.00</td>\n",
       "      <td>3 BHK Apartment in M3M Antalya Hills Phase I</td>\n",
       "      <td>Sector 79</td>\n",
       "      <td>Property In Gurgaon</td>\n",
       "      <td>Approved by RERA</td>\n",
       "      <td>3</td>\n",
       "      <td>M3M Antalya Hills Phase I</td>\n",
       "      <td>M3M</td>\n",
       "      <td>Apartment</td>\n",
       "    </tr>\n",
       "    <tr>\n",
       "      <th>2</th>\n",
       "      <td>1.07</td>\n",
       "      <td>Under Construction</td>\n",
       "      <td>1138</td>\n",
       "      <td>₹9,450.00</td>\n",
       "      <td>2 BHK Apartment in M3M Antalya Hills Phase I</td>\n",
       "      <td>Sector 79</td>\n",
       "      <td>properties for sale in Gurgaon</td>\n",
       "      <td>Approved by RERA</td>\n",
       "      <td>2</td>\n",
       "      <td>M3M Antalya Hills Phase I</td>\n",
       "      <td>M3M</td>\n",
       "      <td>Apartment</td>\n",
       "    </tr>\n",
       "    <tr>\n",
       "      <th>3</th>\n",
       "      <td>4.00</td>\n",
       "      <td>Ready to move</td>\n",
       "      <td>4500</td>\n",
       "      <td>₹8,888.00</td>\n",
       "      <td>4 BHK Independent Floor</td>\n",
       "      <td>Sector 57</td>\n",
       "      <td>MM India Pvt Ltd</td>\n",
       "      <td>Not approved by RERA</td>\n",
       "      <td>4</td>\n",
       "      <td>Outside Socity</td>\n",
       "      <td>Outside</td>\n",
       "      <td>Plot</td>\n",
       "    </tr>\n",
       "    <tr>\n",
       "      <th>4</th>\n",
       "      <td>2.40</td>\n",
       "      <td>Under Construction</td>\n",
       "      <td>1800</td>\n",
       "      <td>₹13,333.00</td>\n",
       "      <td>3 BHK Independent Floor in Anant Raj Estate Plots</td>\n",
       "      <td>Sector 63</td>\n",
       "      <td>MM India Pvt Ltd</td>\n",
       "      <td>Approved by RERA</td>\n",
       "      <td>3</td>\n",
       "      <td>Anant Raj Estate Plots</td>\n",
       "      <td>Anant</td>\n",
       "      <td>Floor</td>\n",
       "    </tr>\n",
       "  </tbody>\n",
       "</table>\n",
       "</div>"
      ],
      "text/plain": [
       "   Price (CR)              Status  Area Rate per sqft  \\\n",
       "0        1.07  Under Construction  1138    ₹9,450.00    \n",
       "1        1.44  Under Construction  1528    ₹9,450.00    \n",
       "2        1.07  Under Construction  1138    ₹9,450.00    \n",
       "3        4.00       Ready to move  4500    ₹8,888.00    \n",
       "4        2.40  Under Construction  1800   ₹13,333.00    \n",
       "\n",
       "                                       Property Type   Locality  \\\n",
       "0       2 BHK Apartment in M3M Antalya Hills Phase I  Sector 79   \n",
       "1       3 BHK Apartment in M3M Antalya Hills Phase I  Sector 79   \n",
       "2       2 BHK Apartment in M3M Antalya Hills Phase I  Sector 79   \n",
       "3                            4 BHK Independent Floor  Sector 57   \n",
       "4  3 BHK Independent Floor in Anant Raj Estate Plots  Sector 63   \n",
       "\n",
       "                     Builder Name         RERA Approval  BHK_Count  \\\n",
       "0                            home      Approved by RERA          2   \n",
       "1             Property In Gurgaon      Approved by RERA          3   \n",
       "2  properties for sale in Gurgaon      Approved by RERA          2   \n",
       "3                MM India Pvt Ltd  Not approved by RERA          4   \n",
       "4                MM India Pvt Ltd      Approved by RERA          3   \n",
       "\n",
       "                      Society Company Name  Flat Type  \n",
       "0   M3M Antalya Hills Phase I          M3M  Apartment  \n",
       "1   M3M Antalya Hills Phase I          M3M  Apartment  \n",
       "2   M3M Antalya Hills Phase I          M3M  Apartment  \n",
       "3              Outside Socity      Outside       Plot  \n",
       "4      Anant Raj Estate Plots        Anant      Floor  "
      ]
     },
     "execution_count": 1250,
     "metadata": {},
     "output_type": "execute_result"
    }
   ],
   "source": [
    "df5 = pd.read_csv(\"5.csv\")\n",
    "df5.head()"
   ]
  },
  {
   "cell_type": "code",
   "execution_count": 1251,
   "metadata": {},
   "outputs": [
    {
     "data": {
      "text/html": [
       "<div>\n",
       "<style scoped>\n",
       "    .dataframe tbody tr th:only-of-type {\n",
       "        vertical-align: middle;\n",
       "    }\n",
       "\n",
       "    .dataframe tbody tr th {\n",
       "        vertical-align: top;\n",
       "    }\n",
       "\n",
       "    .dataframe thead th {\n",
       "        text-align: right;\n",
       "    }\n",
       "</style>\n",
       "<table border=\"1\" class=\"dataframe\">\n",
       "  <thead>\n",
       "    <tr style=\"text-align: right;\">\n",
       "      <th></th>\n",
       "      <th>Year</th>\n",
       "      <th>Location</th>\n",
       "      <th>Prime Score</th>\n",
       "      <th>Real Estate Type</th>\n",
       "      <th>Price (in Crores)</th>\n",
       "      <th>Area (sq. ft.)</th>\n",
       "    </tr>\n",
       "  </thead>\n",
       "  <tbody>\n",
       "    <tr>\n",
       "      <th>0</th>\n",
       "      <td>2009-2010</td>\n",
       "      <td>Udyog Vihar</td>\n",
       "      <td>6</td>\n",
       "      <td>Commercial</td>\n",
       "      <td>10.80</td>\n",
       "      <td>3906</td>\n",
       "    </tr>\n",
       "    <tr>\n",
       "      <th>1</th>\n",
       "      <td>2009-2010</td>\n",
       "      <td>Cyber City</td>\n",
       "      <td>9</td>\n",
       "      <td>Commercial</td>\n",
       "      <td>15.85</td>\n",
       "      <td>1629</td>\n",
       "    </tr>\n",
       "    <tr>\n",
       "      <th>2</th>\n",
       "      <td>2009-2010</td>\n",
       "      <td>Udyog Vihar</td>\n",
       "      <td>6</td>\n",
       "      <td>Residential</td>\n",
       "      <td>8.98</td>\n",
       "      <td>2522</td>\n",
       "    </tr>\n",
       "    <tr>\n",
       "      <th>3</th>\n",
       "      <td>2009-2010</td>\n",
       "      <td>Golf Course Road</td>\n",
       "      <td>6</td>\n",
       "      <td>Commercial</td>\n",
       "      <td>9.00</td>\n",
       "      <td>6523</td>\n",
       "    </tr>\n",
       "    <tr>\n",
       "      <th>4</th>\n",
       "      <td>2009-2010</td>\n",
       "      <td>Udyog Vihar</td>\n",
       "      <td>6</td>\n",
       "      <td>Commercial</td>\n",
       "      <td>8.20</td>\n",
       "      <td>6620</td>\n",
       "    </tr>\n",
       "  </tbody>\n",
       "</table>\n",
       "</div>"
      ],
      "text/plain": [
       "        Year          Location  Prime Score Real Estate Type  \\\n",
       "0  2009-2010       Udyog Vihar            6       Commercial   \n",
       "1  2009-2010        Cyber City            9       Commercial   \n",
       "2  2009-2010       Udyog Vihar            6      Residential   \n",
       "3  2009-2010  Golf Course Road            6       Commercial   \n",
       "4  2009-2010       Udyog Vihar            6       Commercial   \n",
       "\n",
       "   Price (in Crores)  Area (sq. ft.)  \n",
       "0              10.80            3906  \n",
       "1              15.85            1629  \n",
       "2               8.98            2522  \n",
       "3               9.00            6523  \n",
       "4               8.20            6620  "
      ]
     },
     "execution_count": 1251,
     "metadata": {},
     "output_type": "execute_result"
    }
   ],
   "source": [
    "df6 = pd.read_csv(\"6.csv\")\n",
    "df6.head()\n"
   ]
  },
  {
   "cell_type": "code",
   "execution_count": 1252,
   "metadata": {},
   "outputs": [
    {
     "data": {
      "text/plain": [
       "(92, 5)"
      ]
     },
     "execution_count": 1252,
     "metadata": {},
     "output_type": "execute_result"
    }
   ],
   "source": [
    "df1.shape"
   ]
  },
  {
   "cell_type": "code",
   "execution_count": 1253,
   "metadata": {},
   "outputs": [
    {
     "data": {
      "text/plain": [
       "(74, 5)"
      ]
     },
     "execution_count": 1253,
     "metadata": {},
     "output_type": "execute_result"
    }
   ],
   "source": [
    "df2.shape"
   ]
  },
  {
   "cell_type": "code",
   "execution_count": 1254,
   "metadata": {},
   "outputs": [
    {
     "data": {
      "text/plain": [
       "(7, 4)"
      ]
     },
     "execution_count": 1254,
     "metadata": {},
     "output_type": "execute_result"
    }
   ],
   "source": [
    "df3.shape"
   ]
  },
  {
   "cell_type": "code",
   "execution_count": 1255,
   "metadata": {},
   "outputs": [
    {
     "data": {
      "text/plain": [
       "(8, 4)"
      ]
     },
     "execution_count": 1255,
     "metadata": {},
     "output_type": "execute_result"
    }
   ],
   "source": [
    "df4.shape"
   ]
  },
  {
   "cell_type": "code",
   "execution_count": 1256,
   "metadata": {},
   "outputs": [
    {
     "data": {
      "text/plain": [
       "(19515, 12)"
      ]
     },
     "execution_count": 1256,
     "metadata": {},
     "output_type": "execute_result"
    }
   ],
   "source": [
    "df5.shape"
   ]
  },
  {
   "cell_type": "code",
   "execution_count": 1257,
   "metadata": {},
   "outputs": [
    {
     "data": {
      "text/plain": [
       "(2500, 6)"
      ]
     },
     "execution_count": 1257,
     "metadata": {},
     "output_type": "execute_result"
    }
   ],
   "source": [
    "df6.shape"
   ]
  },
  {
   "cell_type": "code",
   "execution_count": 1258,
   "metadata": {},
   "outputs": [
    {
     "data": {
      "text/plain": [
       "Index(['s no.', 'name of colony', ' residential land (Rs.PerSq. feet. (lakh))',\n",
       "       'commercial (Rs.PerSq. feet. (lakh))', 'Unnamed: 4'],\n",
       "      dtype='object')"
      ]
     },
     "execution_count": 1258,
     "metadata": {},
     "output_type": "execute_result"
    }
   ],
   "source": [
    "df1.columns"
   ]
  },
  {
   "cell_type": "code",
   "execution_count": 1259,
   "metadata": {},
   "outputs": [
    {
     "data": {
      "text/plain": [
       "Index(['s no.', 'name of village ', 'agricultural land (CR)',\n",
       "       'residential land (Rs.PerSq. feet. (lakh))',\n",
       "       'commercial (Rs.PerSq. feet. (lakh))'],\n",
       "      dtype='object')"
      ]
     },
     "execution_count": 1259,
     "metadata": {},
     "output_type": "execute_result"
    }
   ],
   "source": [
    "df2.columns"
   ]
  },
  {
   "cell_type": "code",
   "execution_count": 1260,
   "metadata": {},
   "outputs": [
    {
     "data": {
      "text/plain": [
       "Index(['s no.', 'huda sectors', 'residential land (Rs.PerSq. feet. (lakh))',\n",
       "       'commercial (Rs.PerSq. feet. (lakh))'],\n",
       "      dtype='object')"
      ]
     },
     "execution_count": 1260,
     "metadata": {},
     "output_type": "execute_result"
    }
   ],
   "source": [
    "df3.columns"
   ]
  },
  {
   "cell_type": "code",
   "execution_count": 1261,
   "metadata": {},
   "outputs": [
    {
     "data": {
      "text/plain": [
       "Index(['s no.', 'plots in liscensed colonies',\n",
       "       'residential land (Rs.PerSq. feet. (lakh))',\n",
       "       'commercial (Rs.PerSq. feet. (lakh))'],\n",
       "      dtype='object')"
      ]
     },
     "execution_count": 1261,
     "metadata": {},
     "output_type": "execute_result"
    }
   ],
   "source": [
    "df4.columns"
   ]
  },
  {
   "cell_type": "code",
   "execution_count": 1262,
   "metadata": {},
   "outputs": [
    {
     "data": {
      "text/plain": [
       "Index(['Price (CR)', 'Status', 'Area', 'Rate per sqft', 'Property Type',\n",
       "       'Locality', 'Builder Name', 'RERA Approval', 'BHK_Count', 'Society',\n",
       "       'Company Name', 'Flat Type'],\n",
       "      dtype='object')"
      ]
     },
     "execution_count": 1262,
     "metadata": {},
     "output_type": "execute_result"
    }
   ],
   "source": [
    "df5.columns"
   ]
  },
  {
   "cell_type": "code",
   "execution_count": 1263,
   "metadata": {},
   "outputs": [
    {
     "data": {
      "text/plain": [
       "Index(['Year', 'Location', 'Prime Score', 'Real Estate Type',\n",
       "       'Price (in Crores)', 'Area (sq. ft.)'],\n",
       "      dtype='object')"
      ]
     },
     "execution_count": 1263,
     "metadata": {},
     "output_type": "execute_result"
    }
   ],
   "source": [
    "df6.columns"
   ]
  },
  {
   "cell_type": "code",
   "execution_count": 1264,
   "metadata": {},
   "outputs": [
    {
     "data": {
      "text/plain": [
       "array(['Rly Fatak to Daultabad with M C Area', '4 Marla', '8 Marla',\n",
       "       'Acharya Puri', 'Adarsh Nagar', 'Amar Colony', 'Anand Garden',\n",
       "       'Arjun Nagar', 'Ashok Puri', 'Ashok Vihar', 'Baraf khana',\n",
       "       'BasaiColony', 'BhawaniEnclave', 'Bhim Garh Kheri', 'Bhim Nagar',\n",
       "       'ChandanNagar/ S.R Enclave', 'ChandanVihar',\n",
       "       'CivilLinetoJail Road(CivilLine)', 'CivilLines Backside',\n",
       "       'DayanandColony', 'Devilal Colony', 'DhanakBastiNr. DSDCollege',\n",
       "       'DLFColonyOld', 'DronVihar', 'FerozGandhi Colony', 'FriendsColony',\n",
       "       'GandhiNagar', 'GopalNagar', 'HansEnclave', 'HariNagar',\n",
       "       'HiraNagar', 'IdgahArea', 'Inderpuri', 'Jacubpura', 'JawaharNagar',\n",
       "       'JyotiPark', 'KirtiNagarJharsa', 'KrishnaColony', 'KrishnaNagar',\n",
       "       'LajpatNagar', 'LaxmanVihar', 'LaxmiGarden', 'Madanpuri',\n",
       "       'MahavirPura', ' ManoharNagar/ BaldevNagar', 'MianwaliColony',\n",
       "       'NaiAbadi', 'NaiBasti', 'NaiBasti (ShamshanGhat)', 'NehruLane',\n",
       "       'NewColony', 'NewJyotiPark', 'NewPalamVihar',\n",
       "       'NorthSideof Rly.RoadBhim Garh Kheri-II', 'OmNagar',\n",
       "       'Partap Nagar', 'Patel Nagar', 'Prem Nagar (Basai Road)',\n",
       "       'Prem Nagar (Gurgaon Village)', 'Raj Nagar', 'Rajendra Park',\n",
       "       'Rajiv Colony', 'Rajiv Nagar', 'Ram Nagar', 'Rattan Garden',\n",
       "       'Ravi Nagar', 'Roshanpura/ Manohar Street', 'Sabzi Mandi Old',\n",
       "       'Sanjay Colony', 'Sanjay Gram', 'Shakti Nagar (Kadipur)',\n",
       "       'Shakti Park', 'Shankar vihar', 'Shanti Nagar City',\n",
       "       'Sheetla Colony', 'Sheetla Enclave', 'Shiv Nagar', 'Shiv Puri',\n",
       "       'Shivaji Nagar', 'Shivji Park (Kadipur)',\n",
       "       'Subhash Nagar (NearPartapNagar)', 'Subhash Nagar (Dhanak Basti)',\n",
       "       'Nagar(Near JawaharNagar)', 'Surat Nagar', 'SuryaVihar',\n",
       "       'SwarupGarden', 'VijayPark', 'VirendraGram', 'VishnuGarden',\n",
       "       'SarswatiKunj', 'SarswatiEnclave', nan], dtype=object)"
      ]
     },
     "execution_count": 1264,
     "metadata": {},
     "output_type": "execute_result"
    }
   ],
   "source": [
    "df1['name of colony'].unique()"
   ]
  },
  {
   "cell_type": "code",
   "execution_count": 1265,
   "metadata": {},
   "outputs": [
    {
     "data": {
      "text/plain": [
       "name of colony\n",
       "Rly Fatak to Daultabad with M C Area    1\n",
       "Sanjay Colony                           1\n",
       "Roshanpura/ Manohar Street              1\n",
       "Ravi Nagar                              1\n",
       "Rattan Garden                           1\n",
       "                                       ..\n",
       "HansEnclave                             1\n",
       "GopalNagar                              1\n",
       "GandhiNagar                             1\n",
       "FriendsColony                           1\n",
       "SarswatiEnclave                         1\n",
       "Name: count, Length: 91, dtype: int64"
      ]
     },
     "execution_count": 1265,
     "metadata": {},
     "output_type": "execute_result"
    }
   ],
   "source": [
    "df1['name of colony'].value_counts()"
   ]
  },
  {
   "cell_type": "code",
   "execution_count": 1266,
   "metadata": {},
   "outputs": [
    {
     "data": {
      "text/plain": [
       "array(['Adampur', 'Aklimpur', 'Babupur', 'Badshapur', 'Bajghera',\n",
       "       'Bamrauli', 'Basai', 'Basharia', 'Baskusla', 'Begampur Khatola',\n",
       "       'Behrampur', 'Bhangrola', 'Bindapur', 'Budhera', 'Caterpuri',\n",
       "       'Chakkarpur', 'Chandu', 'Chauma', 'Daultabad', 'Dhana', 'Dhankot',\n",
       "       'Dhanwapur', 'Dharampur', 'Dhorka', 'Dhumaspur', 'Dundahera',\n",
       "       'Fatehpur', 'Fazilpur Jharsa', 'Gaduli Kalan', 'Gadauli Khurd',\n",
       "       'Gairatpur bass', 'Garhi Harsaru', 'Ghasola', 'Gopalpur',\n",
       "       'Gurgaon Village', 'Haiderpur Viran', 'Hamirpur', 'Harsaru',\n",
       "       'Hayatpur', 'Inayatpur', 'Islampur', 'Jharsa village', 'Kadipur',\n",
       "       'Kakraula', 'Kanhai', 'Khandsa', 'KherkiMajra', 'Maidawas',\n",
       "       'Makrola', 'Mewka', 'Mohammad heri ', 'Mohammad PurJharsa',\n",
       "       'Molahera', 'Naharpur Roopa', 'Nangli Umarpur', 'Narsinghpur',\n",
       "       'Nathupur', 'Noorpur Jharsa', 'Palda', 'Pawala Khusrupur',\n",
       "       'Sadhrana', 'Samaspur', 'Sarai Allawardi', 'Sarhaul', 'Shahpur',\n",
       "       'Sikanderpur Ghosi', 'Silokhara', 'Sukhrali', 'Tigra', 'Tikampur',\n",
       "       'Tikli', 'Tikri', 'Wazirabad', 'Wazirpur'], dtype=object)"
      ]
     },
     "execution_count": 1266,
     "metadata": {},
     "output_type": "execute_result"
    }
   ],
   "source": [
    "df2['name of village '].unique()"
   ]
  },
  {
   "cell_type": "code",
   "execution_count": 1267,
   "metadata": {},
   "outputs": [
    {
     "data": {
      "text/plain": [
       "name of village \n",
       "Adampur               1\n",
       "Narsinghpur           1\n",
       "Naharpur Roopa        1\n",
       "Molahera              1\n",
       "Mohammad PurJharsa    1\n",
       "                     ..\n",
       "Dhumaspur             1\n",
       "Dhorka                1\n",
       "Dharampur             1\n",
       "Dhanwapur             1\n",
       "Wazirpur              1\n",
       "Name: count, Length: 74, dtype: int64"
      ]
     },
     "execution_count": 1267,
     "metadata": {},
     "output_type": "execute_result"
    }
   ],
   "source": [
    "df2['name of village '].value_counts()"
   ]
  },
  {
   "cell_type": "code",
   "execution_count": 1268,
   "metadata": {},
   "outputs": [
    {
     "data": {
      "text/plain": [
       "array(['Sec-14,15,17,27,28,30,31,42,43', 'Sec-38,40,41,53,54',\n",
       "       'Sec-21,22,22A,23,23A,39,45,46,47,48,49,50,51,52,55,56,57',\n",
       "       'Sec-1, 2,3, 3A,4, 5,7,9, 9A,10,10A,12,12A', 'Sec-29',\n",
       "       'Sec-18,19,20', 'Sec-25,36'], dtype=object)"
      ]
     },
     "execution_count": 1268,
     "metadata": {},
     "output_type": "execute_result"
    }
   ],
   "source": [
    "df3['huda sectors'].unique()"
   ]
  },
  {
   "cell_type": "code",
   "execution_count": 1269,
   "metadata": {},
   "outputs": [
    {
     "data": {
      "text/plain": [
       "huda sectors\n",
       "Sec-14,15,17,27,28,30,31,42,43                              1\n",
       "Sec-38,40,41,53,54                                          1\n",
       "Sec-21,22,22A,23,23A,39,45,46,47,48,49,50,51,52,55,56,57    1\n",
       "Sec-1, 2,3, 3A,4, 5,7,9, 9A,10,10A,12,12A                   1\n",
       "Sec-29                                                      1\n",
       "Sec-18,19,20                                                1\n",
       "Sec-25,36                                                   1\n",
       "Name: count, dtype: int64"
      ]
     },
     "execution_count": 1269,
     "metadata": {},
     "output_type": "execute_result"
    }
   ],
   "source": [
    "df3['huda sectors'].value_counts()"
   ]
  },
  {
   "cell_type": "code",
   "execution_count": 1270,
   "metadata": {},
   "outputs": [
    {
     "data": {
      "text/plain": [
       "array([nan, 'DLF Phase-I,Sushant Lok-I',\n",
       "       'DLF Phase - II, IV & V, Greenwood City,Nirvana-I, SouthCity-I',\n",
       "       'DLF Phase - III, National Media Center',\n",
       "       'South City-II, Suncity (Sec-54), Rosewood City, Garden Estate',\n",
       "       'Mayfield Garden & Ardee City, Sushant Lok - II, III, Vatika City(SohnaRoad) Uniworld Resorts(Sec-33&48)',\n",
       "       'Esencia(Ansal)Sec-67',\n",
       "       'All New Sectors(Sec-58 to Sec-113) except Sec-67'], dtype=object)"
      ]
     },
     "execution_count": 1270,
     "metadata": {},
     "output_type": "execute_result"
    }
   ],
   "source": [
    "df4['plots in liscensed colonies'].unique()"
   ]
  },
  {
   "cell_type": "code",
   "execution_count": 1271,
   "metadata": {},
   "outputs": [
    {
     "data": {
      "text/plain": [
       "plots in liscensed colonies\n",
       "DLF Phase-I,Sushant Lok-I                                                                                  1\n",
       "DLF Phase - II, IV & V, Greenwood City,Nirvana-I, SouthCity-I                                              1\n",
       "DLF Phase - III, National Media Center                                                                     1\n",
       "South City-II, Suncity (Sec-54), Rosewood City, Garden Estate                                              1\n",
       "Mayfield Garden & Ardee City, Sushant Lok - II, III, Vatika City(SohnaRoad) Uniworld Resorts(Sec-33&48)    1\n",
       "Esencia(Ansal)Sec-67                                                                                       1\n",
       "All New Sectors(Sec-58 to Sec-113) except Sec-67                                                           1\n",
       "Name: count, dtype: int64"
      ]
     },
     "execution_count": 1271,
     "metadata": {},
     "output_type": "execute_result"
    }
   ],
   "source": [
    "df4['plots in liscensed colonies'].value_counts()"
   ]
  },
  {
   "cell_type": "code",
   "execution_count": 1272,
   "metadata": {},
   "outputs": [
    {
     "data": {
      "text/plain": [
       "array(['Under Construction', 'Ready to move', 'New', 'Resale'],\n",
       "      dtype=object)"
      ]
     },
     "execution_count": 1272,
     "metadata": {},
     "output_type": "execute_result"
    }
   ],
   "source": [
    "df5['Status'].unique()"
   ]
  },
  {
   "cell_type": "code",
   "execution_count": 1273,
   "metadata": {},
   "outputs": [
    {
     "data": {
      "text/plain": [
       "Status\n",
       "Ready to move         11026\n",
       "Under Construction     7107\n",
       "New                    1029\n",
       "Resale                  353\n",
       "Name: count, dtype: int64"
      ]
     },
     "execution_count": 1273,
     "metadata": {},
     "output_type": "execute_result"
    }
   ],
   "source": [
    "df5['Status'].value_counts()"
   ]
  },
  {
   "cell_type": "code",
   "execution_count": 1274,
   "metadata": {},
   "outputs": [
    {
     "data": {
      "text/plain": [
       "array([' M3M Antalya Hills Phase I', 'Outside Socity',\n",
       "       ' Anant Raj Estate Plots', ' DLF Park Place',\n",
       "       ' BPTP Astaire Garden Plots', ' DLF The Arbour',\n",
       "       ' Navraj The Antalya', ' SS Cendana Residence',\n",
       "       ' Signature Global City 81 Phase 2',\n",
       "       ' Adani Brahma Samsara Vilasa', ' Mapsko Casa Bella',\n",
       "       ' Tata Primanti', ' Ameya Sapphire Eighty Three',\n",
       "       ' Omaxe The Nile', ' M3M Woodshire',\n",
       "       ' Unitown Trehan Luxury Floor 63', ' DLF The Belaire',\n",
       "       ' Puri Emerald Bay', ' Signature Global City 92',\n",
       "       ' Pareena Express Heights', ' Emaar Emerald Floors Premier',\n",
       "       ' Godrej Aristocrat', ' M3M Golf Hills Phase 1',\n",
       "       ' Trehan Luxury Floors 71', ' Signature Global Orchard Avenue',\n",
       "       ' Raheja Sushant Lok 1 Floors', ' Signature Global City 79 B',\n",
       "       ' Godrej Air', ' Today Developer 6', ' M3M M3M Crown',\n",
       "       ' Experion W', ' Umang W', ' Godrej 101', ' Godrej Meridien',\n",
       "       ' Shapoorji Pallonji Joyville Phase 1', ' DLF The Primus',\n",
       "       ' Krisumi Waterfall Residences', ' Reputed Builder Sushant Lok 3',\n",
       "       ' Eldeco Acclaim', ' DLF Magnolias', ' Krisumi Waterfall Suites',\n",
       "       ' Ahuja Builders 4', ' Landmark Avana 1st Phase', ' Tulip Violet',\n",
       "       ' Bestech Park View Grand Spa', ' DLF Regal Gardens',\n",
       "       ' Signature Global Park 1', ' Bestech Park View Altura',\n",
       "       ' ROF Aalayas', ' DLF New Town Heights 1', ' Ireo Grand Hyatt',\n",
       "       ' Experion The Heartsong', ' BPTP District 6 Block L',\n",
       "       ' Raheja Vanya City Plots', ' Apex Our Homes',\n",
       "       ' Vatika The Seven Lamps', ' Faith Ireo Savannah',\n",
       "       ' Saan Verdante', ' Central Park Aqua Front Towers',\n",
       "       ' Vipul Tatvam Villas', ' M3M St Andrews Golf Residences',\n",
       "       ' Meffier Golden Park', ' Signature Global City 93',\n",
       "       ' Uppal Southend', ' M3M Capital', ' M3M Merl', ' Ganga TATHASTU',\n",
       "       ' Ansal Versalia Phase A1', ' Suncity Avenue 102',\n",
       "       ' Central Park Tower C', ' Dhara Malibu Town Floors',\n",
       "       ' Reputed Builder HUDA Colony', ' Surendra Luxury Floor 45',\n",
       "       ' Pyramid Urban Homes 2', ' Ansal Esencia', ' Vipul World Plots',\n",
       "       ' Conscient H', ' Anant Raj The Estate Residences', ' Mah',\n",
       "       ' Birla Navya Avik Phase 1', ' Reputed Builder Plot Sector 39',\n",
       "       ' BPTP Spacio', ' Godrej Air Phase I', ' DLF The Skycourt',\n",
       "       ' SS The Coralwood', ' Bestech Park View Sanskruti',\n",
       "       ' Ganga Nandaka', ' Central Park Flower Valley', ' GLS Avenue 51',\n",
       "       ' Signature Global City 92 2', ' BPTP Park Generation',\n",
       "       ' Eros Rosewood Villas', ' Tata Rais', ' Godrej Icon',\n",
       "       ' SS The Leaf', ' Pioneer Park PH 1', ' Paras Dews',\n",
       "       ' M3M Skycity', ' Pioneer Araya', ' Anant Raj The Estate Floors',\n",
       "       ' Unitech South City II', ' Microtek Greenburg',\n",
       "       ' DLF New Town Heights', ' Ireo The Corridors',\n",
       "       ' Bestech Park View Spa Next', ' Ireo Skyon',\n",
       "       ' Dhoot Time Residency', ' M3M Mansion',\n",
       "       ' Pareena Coban Residences', ' M3M Antalya Hills ',\n",
       "       ' Godrej Zenith', ' Solutrean Caladium', ' Tata Gurgaon Gateway',\n",
       "       ' Emaar Gurgaon Greens', ' Smart Smart World Gems', ' BPTP Terra',\n",
       "       ' ATS Kocoon', ' Whiteland Blissville',\n",
       "       ' Signature Global Solera 2', ' M3M Heights',\n",
       "       ' Adani M2K Oyster Grande',\n",
       "       ' Shree Vardhman Shree Vardhman Victoria',\n",
       "       ' Pivotal Riddhi Siddhi', ' Pareena Enorme', ' Godrej Nature Plus',\n",
       "       ' 4S 4S', ' BPTP Park Prime', ' ABW La Lagune',\n",
       "       ' Emaar Palm Drive', ' Ireo Victory Valley', ' Emaar Marbella',\n",
       "       ' Ansal Sushant Lok 1', ' Suncity Plat',\n",
       "       ' Indiabulls Centrum Park', ' The Antriksh Heights', ' Brisk Lumb',\n",
       "       ' Emaar Digi Homes', ' Puri Diplomatic Residences',\n",
       "       ' Kibithu Homes', ' Today Developer 5', ' M3M Golf Estate',\n",
       "       ' Satya The Hermitage', ' Mapsko Mount Ville',\n",
       "       ' Kuhad Luxuary Builder Floor South City 2', ' Spaze Privy AT4',\n",
       "       ' Ireo The Grand Arch', ' Ireo Uptown', ' AIPL The Peaceful Homes',\n",
       "       ' Signature Global Deluxe DXP', ' Emaar Emerald Classic',\n",
       "       ' MRG Crown', ' Kuhad Luxuary Builder Floor Sector 56 Kuhad',\n",
       "       ' M3M Mar', ' Eros Rosewood City', ' Emaar Emerald Estate',\n",
       "       ' Adani Oyster Grande Tower H', ' BPTP Astaire Garden Floors',\n",
       "       ' Pioneer Park Presidia', ' Elan The Presidential',\n",
       "       ' Silverglades Hightown Residences',\n",
       "       ' DLF Independent Floors At Dlf City Phase I II And III',\n",
       "       ' Conscient Heritage One', ' Emaar Emerald Floors Select',\n",
       "       ' DLF Independent Floors At Dlf Garden City Enclave Phase 2 Plot',\n",
       "       ' DLF Phase 3', ' Sobha City Vista Residences',\n",
       "       ' Emaar Imperial Gardens', ' Hero Homes Gurgaon', ' Sobha City',\n",
       "       ' Signatureglobal City 37D 1', ' Tulip Monsella',\n",
       "       ' Ashiana Amarah', ' Suncity Essel Towers', ' DLF P',\n",
       "       ' Emaar Emerald Hill', ' Emaar Palm Gardens',\n",
       "       ' Sweta Estates Central Park Phase 1', ' DLF The Ultima',\n",
       "       ' DLF Camellias', ' Smart Smartworld One DXP',\n",
       "       ' Smart Smartworld Orchard', ' Raheja Atharva',\n",
       "       ' Ashley Whitehousz Mayfield Garden Floors', ' Ch',\n",
       "       ' Ambience Creacions', ' Conscient Heritage Max', ' ATS Triumph',\n",
       "       ' ATS Tourmal', ' BPTP Mansions Park Prime',\n",
       "       ' Raheja Vedaanta Floors', ' Pyramid Urban Home II Extension',\n",
       "       ' Reputed Builder Emerald Hills Ivory',\n",
       "       ' Avarna Birla Navya Amoda I And II', ' M3M M3M Antalya Hills',\n",
       "       ' Mapsko Royale Ville', ' Anant Raj Maceo',\n",
       "       ' Puri Diplomatic Greens', ' Barga', ' Today Developer 4',\n",
       "       ' Today Developer 3', ' Today Developer 1', ' SS L',\n",
       "       ' Raheja Vedaanta', ' Kibithu Kibithu Homes',\n",
       "       ' Vipul World Floors', ' Godrej Aria',\n",
       "       ' Signature Global City 63A', ' Vatika Vatika Independent Floors',\n",
       "       ' Orchid Island', ' Raheja Greenwood City Floors',\n",
       "       ' Assotech Blith', ' Sobha City Phase 1 Part 1',\n",
       "       ' Puri The Aravallis', ' Adani Samsara Avasa',\n",
       "       ' Shapoorji Pallonji JoyVille', ' Emaar The Palm Spr',\n",
       "       ' Paras Irene', ' Bestech Park View Spa',\n",
       "       ' Shree Vardhman Green Court', ' Aadhar WW 72 Malibu Town',\n",
       "       ' Kohli Malibu Homes', ' Ansal Versalia Phase A2',\n",
       "       ' Raheja South City 1 Floors', ' DLF The Aralias',\n",
       "       ' Eldeco Accolade', ' Ashiana Mulberry',\n",
       "       ' Paramount Luxury Floors Sector 57', ' Vatika Iris Floors',\n",
       "       ' Vatika Sovereign Park', ' Vatika Primrose Floors',\n",
       "       ' DLF Phase 1', ' TATA TATA La Vida',\n",
       "       ' Shapoorji Pallonji Joyville Gurugram II',\n",
       "       ' BPTP Amstoria Farm Villas', ' Vatika Gurgaon 21',\n",
       "       ' Vatika India Next', ' Ashiana Anmol',\n",
       "       ' Signature Global City 37D', ' Godrej Oasis',\n",
       "       ' DLF Garden City Independent Floors',\n",
       "       ' BPTP Amstoria Country Floor',\n",
       "       ' Signature Global Park 4 And 5 Phase II',\n",
       "       ' Ansal Ansals Highland Park', ' JMS Mega City',\n",
       "       ' Experion Zephyr At The Westerlies', ' JMS Prime Land',\n",
       "       ' Hero The Ark', ' Prom', ' M2K Olive Greens',\n",
       "       ' Adani Oyster Greens', ' Ansal Florence Villa',\n",
       "       ' Ardee The Residency',\n",
       "       ' Luv Kush Luxury Builder Floor Luv Kush Sushant Lok 2',\n",
       "       ' Ansal Palam Vihar Plot', ' V K Sohna Greens',\n",
       "       ' Ashiana Mulberry Phase 2', ' ATS Marigold', ' Godrej Habitat',\n",
       "       ' Goel and Sons Golden Park', ' JMS The Nation', ' JMS The Pride',\n",
       "       ' ATS Bonheur Avenue', ' JMS The Pearl',\n",
       "       ' Vatika Vatika India Next Plot', ' SS Mayfield Garden',\n",
       "       ' Anant Raj Estate', ' BPTP Amstoria Plots',\n",
       "       ' Sobha International City Presidential Villa',\n",
       "       ' Ambience Caitriona', ' Krrish Monde De Provence',\n",
       "       ' DLF The Icon', ' DLF Plat', ' M3M Panorama Suites',\n",
       "       ' Pioneer Floors 4', ' Emaar Palm Hills', ' Parsvnath Exotica',\n",
       "       ' Bestech Park View City 1', ' M3M Flora 68',\n",
       "       ' Emaar Emerald Floors', ' Palm Floor DLF Phase 3',\n",
       "       ' 4S 4S Aradhya Homes', ' Skywhales Vienna Greens',\n",
       "       ' Rishali Luxe Residency 112', ' Satya Merano Greens',\n",
       "       ' M3M Skywalk', ' DLF New Town Heights 3',\n",
       "       ' Unitech The Close South', ' Unitech The Close North',\n",
       "       ' Signature Global Global Prime', ' Orchid Petals',\n",
       "       ' Shree Vardhman Shree Vardhman',\n",
       "       ' Ashiana Anmol Phase III And Plaza Ph II',\n",
       "       ' DLF Garden City Plots', ' Central Park Mikasa Plots',\n",
       "       ' Anant Raj Plots', ' Smart Smartworld The Edition',\n",
       "       ' Emaar Emerald Hills Exclusive Plots',\n",
       "       ' Palm Floors Mayfield Garden 1', ' Palm Floor Sushant Lok 1',\n",
       "       ' Palm Floors Sushant Lok 1', ' M3M Golf Hills',\n",
       "       ' Ashley White Housz Floors 1', ' BPTP 102 Eden Estate',\n",
       "       ' Orris Gateway', ' Ramprastha Primera',\n",
       "       ' Signature Global City 81', ' DLF Well', ' Emaar Palm Heights',\n",
       "       ' Whiteland The Aspen', ' Experion Westerlies',\n",
       "       ' Signature Global The Serenas', ' Arete Affordable Group Hous',\n",
       "       ' Signature Global City 92 Phase 2', ' M3M Sierra 68',\n",
       "       ' Raheja Navodaya', ' Signature Global Park', ' Tulip White',\n",
       "       ' HCBS Sports Ville', ' Breez Global Heights',\n",
       "       ' Vatika Premium Floors', ' Vatika Emilia Floors',\n",
       "       ' DLF Independent Floors At DLF Gardencity Sector 91 Or 92',\n",
       "       ' DLF Independent Floors At Dlf Gardencity Sector 91 92',\n",
       "       ' Emaar Urban Oasis', ' NS Anand Niketan', ' Adani Tatva Estates',\n",
       "       ' Redsquare Homes', ' Raheja Shilas', ' Orris Anandam Ora',\n",
       "       ' Ashley Floors 8', ' DLF Garden city Independent Floor',\n",
       "       ' Ashley Titanium Floors 2', ' Ashley Titanium Floors 3',\n",
       "       ' Ashley Floors 13', ' Ashley Whitehousz Floors 4',\n",
       "       ' Ashley Floors 3', ' Birla Navya Gurugram', ' Imperia Esfera',\n",
       "       ' Central Park Resorts', ' DLF The Crest', ' Rambha Corona Greens',\n",
       "       ' BPTP Visionnaire Homes', ' 3D Buildcon Luxuries Floor 1',\n",
       "       ' Tribeca Trump Towers Delhi NCR', ' Ramsons Kshitij',\n",
       "       ' Signature Global The Roselia', ' DLF Alameda', ' 3B Estate 95',\n",
       "       ' DLF Express Greens', ' Signature Global Synera',\n",
       "       ' HSIIDC Sidco Aravali', ' HSIIDC Sidco Shivalik Apartment',\n",
       "       ' Signature Global City 37D II 2', ' Sobha City Phase 2 Part 2',\n",
       "       ' M3M Soulitude', ' Tata La Vida',\n",
       "       ' GC Nirvana County Luxury Floors',\n",
       "       ' GC Ultra Premium Independent Floors', ' Paras Quartier',\n",
       "       ' DLF Regent', ' DLF Pr', ' Vipul Belmonte',\n",
       "       ' DLF DLF Independent Floors at DLF City Phase I and III',\n",
       "       ' Vatika Vatika Seven Elements', ' DLF The Grove',\n",
       "       ' CBS Exclusive Floors', ' DLF Privana', ' SS Almeria',\n",
       "       ' Vatika Sovereign Next', ' Devraj Bs 16 Malibu Town',\n",
       "       ' Dhara Buildtech South City 2 Floors', ' Allure Southcity 2',\n",
       "       ' Laburnum Victory Floors By Laburnum Developers', ' Aviana Ch',\n",
       "       ' Orris Aster Court Premier', ' Right Right Villas 5',\n",
       "       ' Antriksh India Central Avenue',\n",
       "       ' Surendra Homes Sector 4 Cancon Enclave Gurgaon',\n",
       "       ' Swaraj Homes Tulip Garden Gurgaon', ' Suncity Township',\n",
       "       ' DLF Independent Floor At DLF Garden City', ' Emaar Palm Select',\n",
       "       ' M3M Low Rise Floors Sector 61', ' Shree Vardhman Flora',\n",
       "       ' Shree Vardhman Mantra',\n",
       "       ' DLF Independent Floors At Dlf City Phase III', ' Pyramid Alban',\n",
       "       ' Kashish Manor One', ' Today Developer 9',\n",
       "       ' Krisumi Waterside Residence', ' Ashiana Amarah Phase 2',\n",
       "       ' Signature Global City 37D Phase 2', ' Tulip Ace',\n",
       "       ' Ambience Lagoon', ' Central Park Bella Vista',\n",
       "       ' Bright Ace Palm Floors Apartment', ' Ahuja Builders 2',\n",
       "       ' DLF Regency Park II', ' DLF The Summit', ' DLF Hamilton Court',\n",
       "       ' DLF Belvedere Park', ' Vipul Greens',\n",
       "       ' Bestech Park View Ananda', ' M3M Polo Suites',\n",
       "       ' Satya The Legend', ' TDI Ourania',\n",
       "       ' TGS Luxury Builderfloor Sector 57 199', ' Suncity Sun City',\n",
       "       ' Eldeco Mansionz', ' Unitech Harmony',\n",
       "       ' GC Ultra Modern Luxurious Floor',\n",
       "       ' GC Ultra Premium Luxurious Floors',\n",
       "       ' GC Premium Independent Floors', ' Pareena Mi Casa',\n",
       "       ' Reputed Builder Hewo Apartments II', ' Uppal Gurgaon 99',\n",
       "       ' Solutrean Gateway95', ' NB The Sanctuary The Gokulam',\n",
       "       ' Tulip Tulip Ivory', ' Paras Ekam Home Paras Ekam Homes',\n",
       "       ' ROF Insignia Park 2', ' ROF Normanton Park', ' GLS Arawali City',\n",
       "       ' Signature Global Park III ', ' Signature Global Park ',\n",
       "       ' Signature Global Park III Phase 2', ' CBS Luxury Builder Floors',\n",
       "       ' Ashley Estate Floors 9', ' Ashley Estate Floors 10',\n",
       "       ' Ashley Estate Floor 2', ' Ashley Estate Floors 3',\n",
       "       ' Ashley Estate Floors 7', ' Ashley Estate Floors 6',\n",
       "       ' Ashley Estate Floors 8', ' Corona Optus', ' DLF City Phase 1',\n",
       "       ' Silverglades The Melia', ' ILD Green Phase II',\n",
       "       ' Raheja India Rashtra', ' Vatika Express City Plots',\n",
       "       ' Ramprastha Rise', ' Yashvi Golden Gate Residency',\n",
       "       ' Vatika Lifestyle Homes', ' Vatika Signature Villas',\n",
       "       ' TATA Hous', ' Pyramid Fusion Homes', ' Breez Global Hill View',\n",
       "       ' AVL 36', ' Signature Global Global Proxima II',\n",
       "       ' Pivotal Devaan', ' Zara Rossa', ' OSB Golf Heights',\n",
       "       ' Pivotal Paradise', ' Pyramid Urban 67A', ' Perfect Zara Aavaas',\n",
       "       ' Mahira Homes', ' Ashley Nirvana Floors',\n",
       "       ' Swaraj Homes Lord Krishna Society', ' CBS CBS Luxury Floor',\n",
       "       ' CS Roseate 63', ' Laburnum Versalia 67A', ' SHF Homes',\n",
       "       ' Unitech EWS Build', ' Avighna Real 476 Sector 46',\n",
       "       ' Sobha City Phase 5', ' Vatika Xpressions', ' Surendra 67',\n",
       "       ' Ashley Whitehousz Floors 2', ' Ashley Floors 9',\n",
       "       ' Ashley Floors 14', ' CGHS Adhunik Society', ' Tulip Orange',\n",
       "       ' Raheja DLF City Floors Phase 1', ' MV Precore City Plots',\n",
       "       ' Ashley Floors 6', ' Ashley Titanium Floors 4',\n",
       "       ' Ashley Floors 1', ' Ashley Floors 2 ',\n",
       "       ' Ashley Titanium Floors 1', ' Ashley Floors 11',\n",
       "       ' Ashley Floors 4', ' Central Park Flam',\n",
       "       ' Experion Westerlies Phase 3', ' Unitech Deerwood Chase',\n",
       "       ' Surendra Homes', ' Mittal Cosmos Executive Apartment',\n",
       "       ' CRS Homes 3', ' CRS Homes 4', ' CRS Homes 2', ' CRS Homes 1',\n",
       "       ' GLS South Avenue', ' M3M Sky Lofts', ' Tulip Purple',\n",
       "       ' Ansal Sushant Lok I', ' Supertech The Valley',\n",
       "       ' Supertech Basera', ' GLS Arawali Homes 2',\n",
       "       ' Signature Global Park 4 And 5', ' BPTP Amstoria Lutyens Plots',\n",
       "       ' Signature Global Golf Green', ' Surendra Homes 3',\n",
       "       ' Surendra Homes 4', ' Surendra Janki Kunj',\n",
       "       ' Surendra Homes Dream Apartment', ' Ansal Sushant Lok 2',\n",
       "       ' Suncity Heights', ' Reputed Builder Sagavi Apartments',\n",
       "       ' Reputed Builder Galaxy Apartment', ' CGHS Aravali Homes',\n",
       "       ' Reputed Builder Surya Apartments',\n",
       "       ' Swaraj Homes Chandra Apartments', ' DLF Phase 2',\n",
       "       ' Satya The Legend Villas', ' Bestech Park View City 2',\n",
       "       ' Vibhor Spr', ' Swastik Swastik Homes - 1',\n",
       "       ' SDR SDR Floors - 10', ' Supertech Hill Crest',\n",
       "       ' Wishfield The Carm', ' Breez Flora Avenue 33 I',\n",
       "       ' Pyramid Imperial Estate', ' ROF Aalayas Phase 2', ' MRG Ultimus',\n",
       "       ' ROF Alante', ' Sagar Homes', ' Mahira Homes 95',\n",
       "       ' Signature Global Global Aspire', ' Arete Our Homes 3',\n",
       "       ' Pyramid Midtown', ' Pyramid Pride', ' Pyramid Heights',\n",
       "       ' MRG The Balcony', ' Orchid Ivy', ' Pal Shiva Som Valley',\n",
       "       ' Spaze Privvy The Address', ' Ameya Sapphire Residences',\n",
       "       ' Indiabulls Enigma', ' 4S Aradhya Homes Apartment',\n",
       "       ' Sare Green Parc Petioles', ' Raheja Vanya', ' Supertech Aadri',\n",
       "       ' Godrej Grandeur', ' TATA Primanti UberLuxe', ' Godrej Summit',\n",
       "       ' DLF Independent Floors At DLF City Phase III',\n",
       "       ' Orris Woodview Residencies', ' Tulip Yellow',\n",
       "       ' St Patricks Central Park Flower Valley Phase II',\n",
       "       ' Sobha Aranya Phase 1', ' Pioneer Advait', ' Ganga Ganga',\n",
       "       ' Godrej Meridien Phase III', ' Max Antara',\n",
       "       ' DLF DLF Imperial Residences',\n",
       "       ' DLF Independent Floors At DLF City Phase I And III',\n",
       "       ' SS The Hibiscus', ' Krrish Provence Estate',\n",
       "       ' Anant Raj Manor Villas', ' M3M Latitude',\n",
       "       ' Experion The Westerlies', ' Central Park The Orchard',\n",
       "       ' Bestech Park View Ananda Villas', ' Sobha International City',\n",
       "       ' Emaar Bus', ' DLF Gardencity Enclave', ' Ansal Aradhya Homes',\n",
       "       ' Lotus Homz', ' Reputed Builder Parkview Apartments',\n",
       "       ' Ramprastha The Edge Towers',\n",
       "       ' Swaraj Homes Palam Vihar Extension West Zone RWA', ' ROF Ananda',\n",
       "       ' M3M Natura', ' Ramprastha The View',\n",
       "       ' Reputed Builder The Nagata CGHS Ltd',\n",
       "       ' Reputed Builder IMT view', ' HSIIDC Sidco shivalik Apartments',\n",
       "       ' Signature Global The Millennia', ' Vatika Sovereign',\n",
       "       ' Vatika Independent Floors', ' Vatika Gurgaon Next Plots',\n",
       "       ' Ramprastha The Atrium',\n",
       "       ' Signature Global Signature Global City 79 B',\n",
       "       ' Pioneer Presidia', ' Pyramid Altia', ' Shree Krishna Homes',\n",
       "       ' Adani Brahma Samsara', ' Central Park Cerise Floors',\n",
       "       ' Sare Green Parc 2', ' Unitech Escape', ' A3S Homes Ashok Vihar',\n",
       "       ' Raheja Vedas', ' Mangalam M3M Heights M3M Skycity',\n",
       "       ' DLF Phase 4', ' Supertech Araville', ' CHD Vann',\n",
       "       ' Ansal Heights 86', ' M3M Smart World Orchard', ' Tulip Lemon',\n",
       "       ' Trehan Luxury Floors', ' Unitech Vista Villas',\n",
       "       ' Surendra Home Sector 56', ' Eros Wimbley Estate',\n",
       "       ' AWHO Sispal Vihar', ' Vatika INXT Floors', ' Mapsko Paradise',\n",
       "       ' Orris Carnation Residency', ' Supertech Hues',\n",
       "       ' Ashley Whitehousz Sector 46 Floors', ' Emaar Palm Terraces',\n",
       "       ' Ansal Estella', ' Emaar Palm Studios', ' Unitech Heritage City',\n",
       "       ' Eros Wembley Premium Tower', ' Spaze Privy',\n",
       "       ' AlphaCorp Gurgaon One 84', ' Unitech Espace',\n",
       "       ' Star Realcon Star AMD The Essentia Sportz Wembley and Lords',\n",
       "       ' Vatika The Seven Elements', ' BPTP Freedom Park Life',\n",
       "       ' Tanishq Residency', ' Emaar The Enclave', ' ILD Greens',\n",
       "       ' DLF Exclusive Floors', ' Sare Green Parc 3',\n",
       "       ' Silverglades Tarudhan Valley Golf Resort',\n",
       "       ' Sare Crescent Green Park', ' Ashiana Anmol Phase II',\n",
       "       ' Godrej Serenity Sohna', ' Central Park Clover Floors',\n",
       "       ' Shapoorji Pallonji Joyville Tower Crown',\n",
       "       ' Shapoorji Pallonji Joyville Gurugram Phase IV', ' Godrej Prive',\n",
       "       ' Shapoorji Pallonji Joyville Gurugram Phase III',\n",
       "       ' Experion The Westerlies Plots', ' 3B Homes Pataudi One',\n",
       "       ' TATA La Vida', ' Agrante Kavyam Homes',\n",
       "       ' Central Park Fleur Villas', ' Sare Royal Greens',\n",
       "       ' GLS Avenue City', ' A3S BUILDERS', ' Parsvnath Green Ville',\n",
       "       ' Unitech Woodstock Floors', ' M3M 57th Suites',\n",
       "       ' HUDA Plot Sector 57', ' Signature Global Orchard Avenue 2',\n",
       "       ' Conscient Habitat', ' Orris Aster Court', ' MRG The Skyl',\n",
       "       ' Vipul Floors', ' ATS Grandstand', ' Vatika City Homes',\n",
       "       ' Landmark The Residency', ' MRG The Meridian', ' Pyramid Inf',\n",
       "       ' Pareena Om Apartments', ' Golf greens', ' BPTP Luxe Villas',\n",
       "       ' Ansal Maple Heights', ' HUDA Plot Sector 43',\n",
       "       ' solitaire Affordable 70', ' M3M Crown Phase 1', ' Vatika Turn',\n",
       "       ' Trehan 71 Builder Floor', ' Godrej Arista', ' Suncity Avenue 76',\n",
       "       ' M3M Antalya Hills',\n",
       "       ' Viridian The Longevity Project At Plaza 106',\n",
       "       ' Unitech Karma Lakelands', ' Emaar Palm Terraces Select',\n",
       "       ' Tulsiani Easy In Homes', ' Ahuja Builders 3',\n",
       "       ' DLF Independent Floors At DLF Alameda',\n",
       "       ' Signature Global Floors', ' AIPL Zen Residences',\n",
       "       ' Ansal C2 Block', ' Unitech Espace Nirvana Country',\n",
       "       ' Suncity Vatsal Valley Independent Floors 1',\n",
       "       ' Central Park Bellevue', ' Shree Vardhman Olive',\n",
       "       ' Unitech The Residences',\n",
       "       ' A3S Properties Homes 1NEW COLONY Gurgaon', ' A3S BUILDER',\n",
       "       '  Belvedere Tower', ' M3M Antalya Hills Phase II',\n",
       "       ' Smart world sector 113', ' Satya Element One',\n",
       "       ' M3M Paragon sector 57', ' My home ', ' BPTP Fortuna',\n",
       "       ' Tulip Leaf', ' Aadhar Homes WW 72 Malibu Town', ' Ansal E Block',\n",
       "       ' Reputed Builder Jalvayu Tower', ' BPTP Park Serene',\n",
       "       ' Ardee Plat', ' CGHS Developer Navyug Apartments',\n",
       "       ' Supertech Hill Estate', ' Orris Market 89', ' HOODA SECTOR',\n",
       "       ' BPTP Green Oaks', ' NKV Vaishnav Residency', ' W',\n",
       "       ' Vatika Aspiration', ' OM SAI RAM RESIDENCY',\n",
       "       ' OM SAI RAM RESIDECNY', ' Unitech The World Spa West',\n",
       "       ' DLF Beverly Park', ' Bestech Park View Residency',\n",
       "       ' SR S R Green City', ' A3S Homes 1', ' DLF Tr',\n",
       "       ' Signature Global Grand IVA', ' Nitesh Ansal Esencia Township',\n",
       "       ' Pyramid Urban Homes II', ' Signature Global Solera', ' SPS Gold',\n",
       "       ' Reputed Builder SPS Homes', ' NKV Plots',\n",
       "       ' Sushant lok floorsss', ' Sushant Lok floorsss', ' Dlf floorsss',\n",
       "       ' LUXURY floorsss', ' LUXURY floorsss Sushant Lok Gurgaon',\n",
       "       ' AlphaCorp Gurgaon One 22', ' Luxurious builders floor',\n",
       "       ' Dlf 3 floorsss', ' Cameliaas', ' Verandaaa', ' Palm spr',\n",
       "       ' Belairess', ' Luxurious floors', '  DLF Park Place',\n",
       "       ' Luxurious floor', ' Mayfild garden floorsss',\n",
       "       ' Sushant Lok phase 2floor', ' Floorsss', ' Dlf luxurious floor',\n",
       "       ' Sushant Lok luxurious floor', ' Sushant Lok luxurious floors',\n",
       "       ' ROF Atulyas', ' Diplomats Golf L',\n",
       "       ' DLF Independent Floor At DLF City Phase III', ' South City 2',\n",
       "       ' DLF Belvedere Tower', ' Unitech South City 1',\n",
       "       ' DLF Carlton Estate', ' DLF Oakwood Estate',\n",
       "       ' DLF Regency Park 1', ' Vatika City', ' HUDA RWA East Pocket',\n",
       "       ' Ansal Celebrity Suites', ' Eros Wembley Estate', ' Apport Homes',\n",
       "       ' TGS Luxury Builder Floor TGS 240',\n",
       "       '  Unitech Nirvana Country Deerwood Chase',\n",
       "       ' Omaxe Mayfield Garden', ' Investors Guide Floor 2',\n",
       "       ' Investors Guide Floor 1', ' Investors Guide Floor 5',\n",
       "       ' Investors Guide Floor 9', ' m3m paragon',\n",
       "       ' Swaraj Homes Rail Vihar', ' Builders floorsss',\n",
       "       ' Rail vihar sector 57Gurgaon', ' SS Hibiscus New Villas',\n",
       "       ' kishanpath near pilot Residential or Commercial 143 land More Details call now tell me your needs',\n",
       "       ' DLF Phase 4 floorsss', ' Camelliaass', ' Skyvilla',\n",
       "       ' LUXURY villaaa', ' uniworld city',\n",
       "       ' Signature Global Andour Heights', ' Landmark The Homes 81',\n",
       "       ' Arayaaa', ' LUXURY floorses', ' LUXURY floorsss South City',\n",
       "       ' The 54 Araya', ' Pioneer araya', ' Ambience caitrionaaa',\n",
       "       ' Reputed Builder Sahyog Apartment', ' Polo Suitesss',\n",
       "       ' M3M Paragon 57', ' LUXURY villaasss', ' P', ' Luxurious villa',\n",
       "       ' Livable floor', ' Caitrionaaa', ' Kothi', ' Dlf camelliaass',\n",
       "       ' Real Sushant Lok II', ' Gated villa', '  The Magnolias',\n",
       "       ' Villa and kothi', ' Park placess', ' Today Opulence Villas',\n",
       "       ' Ouraniaaa', ' Magnoliaaa', ' Uniworld City', ' Villasss',\n",
       "       ' Penthouse', ' Arayaa', ' LUXURY kothi',\n",
       "       ' Bestech The Sky Suites', ' Salcon The Verandas', ' DLF The P',\n",
       "       ' Tatvam villaass', ' Sky Suites', ' Arayaas', ' Alameda floorsss',\n",
       "       ' Belaireea', ' Magnoliaass', ' Project',\n",
       "       ' Belairess golf course road', ' Dlf 2 floorsss',\n",
       "       ' Omaxe gurgaon The Nile', ' HUDA Plot Sector 47',\n",
       "       ' Surendra Modern Home Sec 67A', ' Unitech Green Wood City',\n",
       "       ' Ansal plots', ' Sushant Lok plots', ' Proprock solution',\n",
       "       ' SSG Yash Vatika 2', ' Dlf plots dlf 1', ' Dlf plots dlf 3',\n",
       "       ' Dlf plots dlf3Gurgaon', ' Plotsss', ' Dlf plotses',\n",
       "       ' Plots large', ' Dlf large plots', ' Dlf plotsss',\n",
       "       ' South City plots', ' plotsss', ' Plotssss', ' DS RK Square',\n",
       "       ' house', '  Palam Vihar Residential Society', '  Floors',\n",
       "       ' CGHS Alankar Apartment', ' Today Luxotica', ' Dlf 3 plots',\n",
       "       ' Versalia plotses', ' Versalia plots', ' New Gurgaon plotses',\n",
       "       ' Plots and floors', ' Suncity plots', ' Plott', ' Elan Mercado',\n",
       "       ' MRG Ultimus ', ' Today Todays Blossom 1',\n",
       "       ' Swaraj Homes Sanjay Gram', ' Baani City Center',\n",
       "       ' B kumar and brothers the passion group', '  Estates',\n",
       "       ' B kumar and brothers', ' DLF Westend Heights', ' La Laguness',\n",
       "       ' Ardee City floorsss', ' Ansal Florence Marvel',\n",
       "       ' Raheja Akshara', ' sharma apartment', ' Dharma Constructions 67',\n",
       "       ' HUDA Pacecity 2', ' Adani Aangan', ' Baliawas farms',\n",
       "       ' Builder Floor Block L', ' south city 1 N Block',\n",
       "       ' Ansal Flexi Homes', ' south city 1 E Block',\n",
       "       ' south city 1 Q Block', ' south city 1 G Block',\n",
       "       ' south city 1 premium Block', ' south city 1 K Block',\n",
       "       ' south city 1 D Block', ' Builder Floor Block C',\n",
       "       ' south city 1 M Block', ' Ansal Valley View Estate',\n",
       "       ' HUDA Plot Sector 34', ' M Block south city 1',\n",
       "       ' Emaar Palm Premier', ' Ireo Ascott Ireo City', ' Paras Square',\n",
       "       ' Signature Global Global Park 2 And 3',\n",
       "       ' Pioneer Pioneer Presidia',\n",
       "       ' Haryana Properties HUDA Project Laxman Vihar', ' Elan Miracle',\n",
       "       ' the golf drive', ' Sare Crescent Parc', '  16 Acres',\n",
       "       ' Signature Global Golf Green Sector 79 Gurgaon',\n",
       "       ' Signature Global Builders Golf Greens Sector 79 Gurgaon',\n",
       "       ' New Door Sushan A2 A24', ' Krishna Homes', ' ROF Amaltas',\n",
       "       ' Builder Floors South City 2',\n",
       "       ' Emaar Emerald Floors Premier Phase 3',\n",
       "       ' Central Park The Room II', ' Shikhar Apartments',\n",
       "       ' Krrish Florence Estate', ' Vipul Orchid Gardens',\n",
       "       ' Signature global park 4 and 5', ' M3m flora',\n",
       "       ' Signature Global The Millennia 3',\n",
       "       ' Signature Global The Millennia I', ' DS Residency',\n",
       "       ' DLF New Town Heights 2', ' IRWO IRWO Rail Vihar',\n",
       "       ' CGHS Hewo Apartment', ' Smart World Sector 113',\n",
       "       ' City of dearm', ' Signature Global Park II',\n",
       "       ' Sweta Estates Central Park Flower Valley',\n",
       "       ' Uphaar Yash Apartment', ' Dlf 3', ' sushant lok 1',\n",
       "       ' sushant lok 1 c block', ' DLF Phase 2 L block', ' Pyramid Elite',\n",
       "       ' Redsquare Avenue I', ' SSG Yash Residency', ' SSG Yash Vatika 3',\n",
       "       ' Unitech Nirvana Country', ' Unitech Nirvana Country Cedar Crest',\n",
       "       ' Czar Mahira Homes 63A', ' Ireo City Plots',\n",
       "       ' Vatika Plots Vatika India Next',\n",
       "       ' DLF Alameda E 1 Sector 73 Gurgaon', ' U Block NKV Group',\n",
       "       ' U Block Society', ' u block', ' Supertech Sambhav Homes',\n",
       "       ' HUDA Plot Sector 45', ' U Block', ' Vaishnav kunj',\n",
       "       ' SOHNA GRAND CITY', ' Unitech the residences',\n",
       "       ' unitech the residences sector 33', ' Imperia Aashiyara',\n",
       "       ' GLS Arawali Homes', ' Breez Global Homes',\n",
       "       ' Pyramid Urban Homes', ' JMD Gardens', ' MVN Athens',\n",
       "       ' GLS Avenue 81', ' Investors Guide Floor 3',\n",
       "       ' Reputed Builder Shanti Kunj', ' OSB Expressway Towers',\n",
       "       ' south city 1 P Block', ' Vaishnav Vatika',\n",
       "       ' south city 1 C Block', ' SS Aaron Ville',\n",
       "       ' Central Park Belgravia Resort Residences 1', ' Rajvik Sector79',\n",
       "       ' Signature Global Park III', ' Ansal Heights',\n",
       "       ' Sidhartha Group NCR One', ' CHD Avenue 71',\n",
       "       ' Ansal Sushant Estate', ' Swaraj Homes IRWO Classic Apartments',\n",
       "       ' Ansal Florence Residency', ' Reputed Builder Apna Enclave',\n",
       "       ' Sushant lok 2 Sector 57 Gurgaon', ' Unitech Uniworld Gardens',\n",
       "       ' Vipul Aarohan', ' AB Realty Valencia', ' I block 132',\n",
       "       ' Tanishq Homes Sec 105'], dtype=object)"
      ]
     },
     "execution_count": 1274,
     "metadata": {},
     "output_type": "execute_result"
    }
   ],
   "source": [
    "df5['Society'].unique()"
   ]
  },
  {
   "cell_type": "code",
   "execution_count": 1275,
   "metadata": {},
   "outputs": [
    {
     "data": {
      "text/plain": [
       "Society\n",
       "Outside Socity                   1937\n",
       " M3M Golf Estate                  722\n",
       " Krisumi Waterfall Residences     431\n",
       " Whiteland The Aspen              377\n",
       " Godrej Air                       351\n",
       "                                 ... \n",
       " Tulip Purple                       1\n",
       " Surendra Homes                     1\n",
       " Kothi                              1\n",
       " Dlf camelliaass                    1\n",
       " Unitech Deerwood Chase             1\n",
       "Name: count, Length: 967, dtype: int64"
      ]
     },
     "execution_count": 1275,
     "metadata": {},
     "output_type": "execute_result"
    }
   ],
   "source": [
    "df5['Society'].value_counts()"
   ]
  },
  {
   "cell_type": "code",
   "execution_count": 1276,
   "metadata": {},
   "outputs": [
    {
     "data": {
      "text/plain": [
       "array(['M3M', 'Outside', 'Anant', 'DLF', 'BPTP', 'Navraj', 'SS',\n",
       "       'Signature', 'Adani', 'Mapsko', 'Tata', 'Ameya', 'Omaxe',\n",
       "       'Unitown', 'Puri', 'Pareena', 'Emaar', 'Godrej', 'Trehan',\n",
       "       'Raheja', 'Today', 'Experion', 'Umang', 'Shapoorji', 'Krisumi',\n",
       "       'Reputed', 'Eldeco', 'Ahuja', 'Landmark', 'Tulip', 'Bestech',\n",
       "       'ROF', 'Ireo', 'Apex', 'Vatika', 'Faith', 'Saan', 'Central',\n",
       "       'Vipul', 'Meffier', 'Uppal', 'Ganga', 'Ansal', 'Suncity', 'Dhara',\n",
       "       'Surendra', 'Pyramid', 'Conscient', 'Mah', 'Birla', 'GLS', 'Eros',\n",
       "       'Pioneer', 'Paras', 'Unitech', 'Microtek', 'Dhoot', 'Solutrean',\n",
       "       'Smart', 'ATS', 'Whiteland', 'Shree', 'Pivotal', '4S', 'ABW',\n",
       "       'Indiabulls', 'The', 'Brisk', 'Kibithu', 'Satya', 'Kuhad', 'Spaze',\n",
       "       'AIPL', 'MRG', 'Elan', 'Silverglades', 'Sobha', 'Hero',\n",
       "       'Signatureglobal', 'Ashiana', 'Sweta', 'Ashley', 'Ch', 'Ambience',\n",
       "       'Avarna', 'Barga', 'Orchid', 'Assotech', 'Aadhar', 'Kohli',\n",
       "       'Paramount', 'TATA', 'JMS', 'Prom', 'M2K', 'Ardee', 'Luv', 'V',\n",
       "       'Goel', 'Krrish', 'Parsvnath', 'Palm', 'Skywhales', 'Rishali',\n",
       "       'Orris', 'Ramprastha', 'Arete', 'HCBS', 'Breez', 'NS', 'Redsquare',\n",
       "       'Imperia', 'Rambha', '3D', 'Tribeca', 'Ramsons', '3B', 'HSIIDC',\n",
       "       'GC', 'CBS', 'Devraj', 'Allure', 'Laburnum', 'Aviana', 'Right',\n",
       "       'Antriksh', 'Swaraj', 'Kashish', 'Bright', 'TDI', 'TGS', 'NB',\n",
       "       'Corona', 'ILD', 'Yashvi', 'AVL', 'Zara', 'OSB', 'Perfect',\n",
       "       'Mahira', 'CS', 'SHF', 'Avighna', 'CGHS', 'MV', 'Mittal', 'CRS',\n",
       "       'Supertech', 'Vibhor', 'Swastik', 'SDR', 'Wishfield', 'Sagar',\n",
       "       'Pal', 'Sare', 'St', 'Max', 'Lotus', 'A3S', 'Mangalam', 'CHD',\n",
       "       'AWHO', 'AlphaCorp', 'Star', 'Tanishq', 'Agrante', 'HUDA', 'Golf',\n",
       "       'solitaire', 'Viridian', 'Tulsiani', 'Belvedere', 'My', 'HOODA',\n",
       "       'NKV', 'W', 'OM', 'SR', 'Nitesh', 'SPS', 'Sushant', 'Dlf',\n",
       "       'LUXURY', 'Luxurious', 'Cameliaas', 'Verandaaa', 'Belairess',\n",
       "       'Mayfild', 'Floorsss', 'Diplomats', 'South', 'Apport', 'Investors',\n",
       "       'm3m', 'Builders', 'Rail', 'kishanpath', 'Camelliaass', 'Skyvilla',\n",
       "       'uniworld', 'Arayaaa', 'Polo', 'P', 'Livable', 'Caitrionaaa',\n",
       "       'Kothi', 'Real', 'Gated', 'Villa', 'Park', 'Ouraniaaa',\n",
       "       'Magnoliaaa', 'Uniworld', 'Villasss', 'Penthouse', 'Arayaa',\n",
       "       'Salcon', 'Tatvam', 'Sky', 'Arayaas', 'Alameda', 'Belaireea',\n",
       "       'Magnoliaass', 'Project', 'Proprock', 'SSG', 'Plotsss', 'Plots',\n",
       "       'plotsss', 'Plotssss', 'DS', 'house', 'Palam', 'Floors',\n",
       "       'Versalia', 'New', 'Plott', 'Baani', 'B', 'Estates', 'La',\n",
       "       'sharma', 'Dharma', 'Baliawas', 'Builder', 'south', 'M', 'Haryana',\n",
       "       'the', '16', 'Krishna', 'Shikhar', 'M3m', 'IRWO', 'City', 'Uphaar',\n",
       "       'sushant', 'Czar', 'U', 'u', 'Vaishnav', 'SOHNA', 'unitech', 'JMD',\n",
       "       'MVN', 'Rajvik', 'Sidhartha', 'AB', 'I'], dtype=object)"
      ]
     },
     "execution_count": 1276,
     "metadata": {},
     "output_type": "execute_result"
    }
   ],
   "source": [
    "df5['Company Name'].unique()"
   ]
  },
  {
   "cell_type": "code",
   "execution_count": 1277,
   "metadata": {},
   "outputs": [
    {
     "data": {
      "text/plain": [
       "Company Name\n",
       "M3M          2665\n",
       "Outside      1937\n",
       "Godrej       1183\n",
       "DLF          1003\n",
       "Signature     854\n",
       "             ... \n",
       "Real            1\n",
       "Kothi           1\n",
       "uniworld        1\n",
       "Skyvilla        1\n",
       "I               1\n",
       "Name: count, Length: 269, dtype: int64"
      ]
     },
     "execution_count": 1277,
     "metadata": {},
     "output_type": "execute_result"
    }
   ],
   "source": [
    "df5['Company Name'].value_counts()"
   ]
  },
  {
   "cell_type": "code",
   "execution_count": 1278,
   "metadata": {},
   "outputs": [
    {
     "data": {
      "text/plain": [
       "array([' ₹9,450.00 ', ' ₹8,888.00 ', ' ₹13,333.00 ', ..., ' ₹7,996.00 ',\n",
       "       ' ₹7,093.00 ', ' ₹8,240.00 '], shape=(3928,), dtype=object)"
      ]
     },
     "execution_count": 1278,
     "metadata": {},
     "output_type": "execute_result"
    }
   ],
   "source": [
    "df5['Rate per sqft'].unique()"
   ]
  },
  {
   "cell_type": "code",
   "execution_count": 1279,
   "metadata": {},
   "outputs": [
    {
     "data": {
      "text/plain": [
       "Rate per sqft\n",
       "₹20,000.00     558\n",
       "₹22,000.00     520\n",
       "₹16,500.00     392\n",
       "₹15,000.00     232\n",
       "₹13,000.00     210\n",
       "              ... \n",
       "₹13,147.00       1\n",
       "₹9,630.00        1\n",
       "₹10,239.00       1\n",
       "₹9,627.00        1\n",
       "₹8,240.00        1\n",
       "Name: count, Length: 3928, dtype: int64"
      ]
     },
     "execution_count": 1279,
     "metadata": {},
     "output_type": "execute_result"
    }
   ],
   "source": [
    "df5['Rate per sqft'].value_counts()"
   ]
  },
  {
   "cell_type": "code",
   "execution_count": 1280,
   "metadata": {},
   "outputs": [
    {
     "data": {
      "text/plain": [
       "array(['Apartment', 'Plot', 'Floor', 'Villa', 'House', 'Penthouse'],\n",
       "      dtype=object)"
      ]
     },
     "execution_count": 1280,
     "metadata": {},
     "output_type": "execute_result"
    }
   ],
   "source": [
    "df5['Flat Type'].unique()"
   ]
  },
  {
   "cell_type": "code",
   "execution_count": 1281,
   "metadata": {},
   "outputs": [
    {
     "data": {
      "text/plain": [
       "Flat Type\n",
       "Apartment    14954\n",
       "Plot          3027\n",
       "Floor         1205\n",
       "Villa          235\n",
       "House           60\n",
       "Penthouse       34\n",
       "Name: count, dtype: int64"
      ]
     },
     "execution_count": 1281,
     "metadata": {},
     "output_type": "execute_result"
    }
   ],
   "source": [
    "df5['Flat Type'].value_counts()"
   ]
  },
  {
   "cell_type": "code",
   "execution_count": 1282,
   "metadata": {},
   "outputs": [
    {
     "data": {
      "text/plain": [
       "array([  2,   3,   4,   1,   0,   6,   5,  39,   9, 112, 102,   8,  99,\n",
       "        95,  10, 114,   7,  89,  15,  12,  34,  16,  45,  47, 132])"
      ]
     },
     "execution_count": 1282,
     "metadata": {},
     "output_type": "execute_result"
    }
   ],
   "source": [
    "df5['BHK_Count'].unique()"
   ]
  },
  {
   "cell_type": "code",
   "execution_count": 1283,
   "metadata": {},
   "outputs": [
    {
     "data": {
      "text/plain": [
       "BHK_Count\n",
       "3      8796\n",
       "4      5084\n",
       "2      3146\n",
       "0      1227\n",
       "5       755\n",
       "1       292\n",
       "6       112\n",
       "99       25\n",
       "7        16\n",
       "8        12\n",
       "12        9\n",
       "10        5\n",
       "112       5\n",
       "114       5\n",
       "9         5\n",
       "95        5\n",
       "39        4\n",
       "15        4\n",
       "102       2\n",
       "89        1\n",
       "34        1\n",
       "16        1\n",
       "45        1\n",
       "47        1\n",
       "132       1\n",
       "Name: count, dtype: int64"
      ]
     },
     "execution_count": 1283,
     "metadata": {},
     "output_type": "execute_result"
    }
   ],
   "source": [
    "df5['BHK_Count'].value_counts()"
   ]
  },
  {
   "cell_type": "code",
   "execution_count": 1284,
   "metadata": {},
   "outputs": [
    {
     "data": {
      "text/plain": [
       "(19515, 11)"
      ]
     },
     "execution_count": 1284,
     "metadata": {},
     "output_type": "execute_result"
    }
   ],
   "source": [
    "df7=df5.drop(['RERA Approval'],axis='columns')\n",
    "df7.shape"
   ]
  },
  {
   "cell_type": "code",
   "execution_count": 1285,
   "metadata": {},
   "outputs": [
    {
     "name": "stderr",
     "output_type": "stream",
     "text": [
      "/Users/ayush/Library/Python/3.12/lib/python/site-packages/IPython/core/displayhook.py:281: UserWarning: Output cache limit (currently 1000 entries) hit.\n",
      "Flushing oldest 200 entries.\n",
      "  warn('Output cache limit (currently {sz} entries) hit.\\n'\n"
     ]
    },
    {
     "data": {
      "text/plain": [
       "(19515, 11)"
      ]
     },
     "execution_count": 1285,
     "metadata": {},
     "output_type": "execute_result"
    }
   ],
   "source": [
    "df8 = df5.drop(['RERA Approval'],axis='columns')\n",
    "df8.shape"
   ]
  },
  {
   "cell_type": "code",
   "execution_count": 1286,
   "metadata": {},
   "outputs": [
    {
     "data": {
      "text/plain": [
       "(92, 5)"
      ]
     },
     "execution_count": 1286,
     "metadata": {},
     "output_type": "execute_result"
    }
   ],
   "source": [
    "df1.isnull().sum()\n",
    "df1.shape"
   ]
  },
  {
   "cell_type": "code",
   "execution_count": 1287,
   "metadata": {},
   "outputs": [
    {
     "data": {
      "text/plain": [
       "(74, 5)"
      ]
     },
     "execution_count": 1287,
     "metadata": {},
     "output_type": "execute_result"
    }
   ],
   "source": [
    "df2.isnull().sum()\n",
    "df2.shape"
   ]
  },
  {
   "cell_type": "code",
   "execution_count": 1288,
   "metadata": {},
   "outputs": [
    {
     "data": {
      "text/plain": [
       "(7, 4)"
      ]
     },
     "execution_count": 1288,
     "metadata": {},
     "output_type": "execute_result"
    }
   ],
   "source": [
    "df3.isnull().sum()\n",
    "df3.shape"
   ]
  },
  {
   "cell_type": "code",
   "execution_count": 1289,
   "metadata": {},
   "outputs": [
    {
     "data": {
      "text/plain": [
       "(8, 4)"
      ]
     },
     "execution_count": 1289,
     "metadata": {},
     "output_type": "execute_result"
    }
   ],
   "source": [
    "df4.isnull().sum()\n",
    "df4.shape"
   ]
  },
  {
   "cell_type": "code",
   "execution_count": 1290,
   "metadata": {},
   "outputs": [
    {
     "data": {
      "text/plain": [
       "(19515, 12)"
      ]
     },
     "execution_count": 1290,
     "metadata": {},
     "output_type": "execute_result"
    }
   ],
   "source": [
    "df5.isnull().sum()\n",
    "df5.shape"
   ]
  },
  {
   "cell_type": "code",
   "execution_count": 1291,
   "metadata": {},
   "outputs": [
    {
     "data": {
      "text/plain": [
       "(2500, 6)"
      ]
     },
     "execution_count": 1291,
     "metadata": {},
     "output_type": "execute_result"
    }
   ],
   "source": [
    "df6.isnull().sum()\n",
    "df6.shape"
   ]
  },
  {
   "cell_type": "code",
   "execution_count": 1292,
   "metadata": {},
   "outputs": [
    {
     "data": {
      "text/html": [
       "<div>\n",
       "<style scoped>\n",
       "    .dataframe tbody tr th:only-of-type {\n",
       "        vertical-align: middle;\n",
       "    }\n",
       "\n",
       "    .dataframe tbody tr th {\n",
       "        vertical-align: top;\n",
       "    }\n",
       "\n",
       "    .dataframe thead th {\n",
       "        text-align: right;\n",
       "    }\n",
       "</style>\n",
       "<table border=\"1\" class=\"dataframe\">\n",
       "  <thead>\n",
       "    <tr style=\"text-align: right;\">\n",
       "      <th></th>\n",
       "      <th>Year</th>\n",
       "      <th>Location</th>\n",
       "      <th>Prime Score</th>\n",
       "      <th>Real Estate Type</th>\n",
       "      <th>Price (in Crores)</th>\n",
       "      <th>Area (sq. ft.)</th>\n",
       "    </tr>\n",
       "  </thead>\n",
       "  <tbody>\n",
       "    <tr>\n",
       "      <th>0</th>\n",
       "      <td>2009-2010</td>\n",
       "      <td>Udyog Vihar</td>\n",
       "      <td>6</td>\n",
       "      <td>Commercial</td>\n",
       "      <td>10.80</td>\n",
       "      <td>3906</td>\n",
       "    </tr>\n",
       "    <tr>\n",
       "      <th>1</th>\n",
       "      <td>2009-2010</td>\n",
       "      <td>Cyber City</td>\n",
       "      <td>9</td>\n",
       "      <td>Commercial</td>\n",
       "      <td>15.85</td>\n",
       "      <td>1629</td>\n",
       "    </tr>\n",
       "    <tr>\n",
       "      <th>2</th>\n",
       "      <td>2009-2010</td>\n",
       "      <td>Udyog Vihar</td>\n",
       "      <td>6</td>\n",
       "      <td>Residential</td>\n",
       "      <td>8.98</td>\n",
       "      <td>2522</td>\n",
       "    </tr>\n",
       "    <tr>\n",
       "      <th>3</th>\n",
       "      <td>2009-2010</td>\n",
       "      <td>Golf Course Road</td>\n",
       "      <td>6</td>\n",
       "      <td>Commercial</td>\n",
       "      <td>9.00</td>\n",
       "      <td>6523</td>\n",
       "    </tr>\n",
       "    <tr>\n",
       "      <th>4</th>\n",
       "      <td>2009-2010</td>\n",
       "      <td>Udyog Vihar</td>\n",
       "      <td>6</td>\n",
       "      <td>Commercial</td>\n",
       "      <td>8.20</td>\n",
       "      <td>6620</td>\n",
       "    </tr>\n",
       "    <tr>\n",
       "      <th>...</th>\n",
       "      <td>...</td>\n",
       "      <td>...</td>\n",
       "      <td>...</td>\n",
       "      <td>...</td>\n",
       "      <td>...</td>\n",
       "      <td>...</td>\n",
       "    </tr>\n",
       "    <tr>\n",
       "      <th>2495</th>\n",
       "      <td>2023-2024</td>\n",
       "      <td>Udyog Vihar</td>\n",
       "      <td>6</td>\n",
       "      <td>Agricultural</td>\n",
       "      <td>12.61</td>\n",
       "      <td>2521</td>\n",
       "    </tr>\n",
       "    <tr>\n",
       "      <th>2496</th>\n",
       "      <td>2023-2024</td>\n",
       "      <td>New Gurgaon</td>\n",
       "      <td>7</td>\n",
       "      <td>Special Purpose</td>\n",
       "      <td>19.52</td>\n",
       "      <td>1290</td>\n",
       "    </tr>\n",
       "    <tr>\n",
       "      <th>2497</th>\n",
       "      <td>2023-2024</td>\n",
       "      <td>Sohna Road</td>\n",
       "      <td>6</td>\n",
       "      <td>Industrial</td>\n",
       "      <td>20.73</td>\n",
       "      <td>9057</td>\n",
       "    </tr>\n",
       "    <tr>\n",
       "      <th>2498</th>\n",
       "      <td>2023-2024</td>\n",
       "      <td>Golf Course Road</td>\n",
       "      <td>6</td>\n",
       "      <td>Agricultural</td>\n",
       "      <td>12.23</td>\n",
       "      <td>7482</td>\n",
       "    </tr>\n",
       "    <tr>\n",
       "      <th>2499</th>\n",
       "      <td>2023-2024</td>\n",
       "      <td>New Gurgaon</td>\n",
       "      <td>7</td>\n",
       "      <td>Residential</td>\n",
       "      <td>25.03</td>\n",
       "      <td>2163</td>\n",
       "    </tr>\n",
       "  </tbody>\n",
       "</table>\n",
       "<p>2500 rows × 6 columns</p>\n",
       "</div>"
      ],
      "text/plain": [
       "           Year          Location  Prime Score Real Estate Type  \\\n",
       "0     2009-2010       Udyog Vihar            6       Commercial   \n",
       "1     2009-2010        Cyber City            9       Commercial   \n",
       "2     2009-2010       Udyog Vihar            6      Residential   \n",
       "3     2009-2010  Golf Course Road            6       Commercial   \n",
       "4     2009-2010       Udyog Vihar            6       Commercial   \n",
       "...         ...               ...          ...              ...   \n",
       "2495  2023-2024       Udyog Vihar            6     Agricultural   \n",
       "2496  2023-2024       New Gurgaon            7  Special Purpose   \n",
       "2497  2023-2024        Sohna Road            6       Industrial   \n",
       "2498  2023-2024  Golf Course Road            6     Agricultural   \n",
       "2499  2023-2024       New Gurgaon            7      Residential   \n",
       "\n",
       "      Price (in Crores)  Area (sq. ft.)  \n",
       "0                 10.80            3906  \n",
       "1                 15.85            1629  \n",
       "2                  8.98            2522  \n",
       "3                  9.00            6523  \n",
       "4                  8.20            6620  \n",
       "...                 ...             ...  \n",
       "2495              12.61            2521  \n",
       "2496              19.52            1290  \n",
       "2497              20.73            9057  \n",
       "2498              12.23            7482  \n",
       "2499              25.03            2163  \n",
       "\n",
       "[2500 rows x 6 columns]"
      ]
     },
     "execution_count": 1292,
     "metadata": {},
     "output_type": "execute_result"
    }
   ],
   "source": [
    "df6"
   ]
  },
  {
   "cell_type": "code",
   "execution_count": 1293,
   "metadata": {},
   "outputs": [],
   "source": [
    "def is_float(x):\n",
    "    try:\n",
    "        float(x)\n",
    "    except:\n",
    "        return False\n",
    "    return True"
   ]
  },
  {
   "cell_type": "code",
   "execution_count": 1294,
   "metadata": {},
   "outputs": [
    {
     "data": {
      "text/plain": [
       "6"
      ]
     },
     "execution_count": 1294,
     "metadata": {},
     "output_type": "execute_result"
    }
   ],
   "source": [
    "1+2+3"
   ]
  },
  {
   "cell_type": "code",
   "execution_count": 1295,
   "metadata": {},
   "outputs": [
    {
     "data": {
      "text/plain": [
       "count    91.000000\n",
       "mean      1.724341\n",
       "std       0.707386\n",
       "min       0.855000\n",
       "25%       1.395000\n",
       "50%       1.530000\n",
       "75%       1.980000\n",
       "max       4.950000\n",
       "Name:  residential land (Rs.PerSq. feet. (lakh)), dtype: float64"
      ]
     },
     "execution_count": 1295,
     "metadata": {},
     "output_type": "execute_result"
    }
   ],
   "source": [
    "df1_stats = df1[' residential land (Rs.PerSq. feet. (lakh))'].describe()\n",
    "df1_stats"
   ]
  },
  {
   "cell_type": "code",
   "execution_count": 1296,
   "metadata": {},
   "outputs": [
    {
     "data": {
      "text/plain": [
       "count    91.000000\n",
       "mean      1.724341\n",
       "std       0.707386\n",
       "min       0.855000\n",
       "25%       1.395000\n",
       "50%       1.530000\n",
       "75%       1.980000\n",
       "max       4.950000\n",
       "Name:  residential land (Rs.PerSq. feet. (lakh)), dtype: float64"
      ]
     },
     "execution_count": 1296,
     "metadata": {},
     "output_type": "execute_result"
    }
   ],
   "source": [
    "df2_stats = df1[' residential land (Rs.PerSq. feet. (lakh))'].describe()\n",
    "df2_stats"
   ]
  },
  {
   "cell_type": "code",
   "execution_count": 1297,
   "metadata": {},
   "outputs": [
    {
     "data": {
      "text/plain": [
       "count    91.000000\n",
       "mean      1.724341\n",
       "std       0.707386\n",
       "min       0.855000\n",
       "25%       1.395000\n",
       "50%       1.530000\n",
       "75%       1.980000\n",
       "max       4.950000\n",
       "Name:  residential land (Rs.PerSq. feet. (lakh)), dtype: float64"
      ]
     },
     "execution_count": 1297,
     "metadata": {},
     "output_type": "execute_result"
    }
   ],
   "source": [
    "df3_stats = df1[' residential land (Rs.PerSq. feet. (lakh))'].describe()\n",
    "df3_stats"
   ]
  },
  {
   "cell_type": "code",
   "execution_count": 1298,
   "metadata": {},
   "outputs": [
    {
     "data": {
      "text/plain": [
       "count    91.000000\n",
       "mean      1.724341\n",
       "std       0.707386\n",
       "min       0.855000\n",
       "25%       1.395000\n",
       "50%       1.530000\n",
       "75%       1.980000\n",
       "max       4.950000\n",
       "Name:  residential land (Rs.PerSq. feet. (lakh)), dtype: float64"
      ]
     },
     "execution_count": 1298,
     "metadata": {},
     "output_type": "execute_result"
    }
   ],
   "source": [
    "df4_stats = df1[' residential land (Rs.PerSq. feet. (lakh))'].describe()\n",
    "df4_stats"
   ]
  },
  {
   "cell_type": "code",
   "execution_count": 1299,
   "metadata": {},
   "outputs": [
    {
     "data": {
      "text/plain": [
       "count                       19515\n",
       "unique                       1848\n",
       "top       3 BHK Independent Floor\n",
       "freq                          638\n",
       "Name: Property Type, dtype: object"
      ]
     },
     "execution_count": 1299,
     "metadata": {},
     "output_type": "execute_result"
    }
   ],
   "source": [
    "df5_stats = df5['Property Type'].describe()\n",
    "df5_stats"
   ]
  },
  {
   "cell_type": "code",
   "execution_count": 1300,
   "metadata": {},
   "outputs": [
    {
     "data": {
      "text/plain": [
       "count                 2500\n",
       "unique                  12\n",
       "top       Golf Course Road\n",
       "freq                   229\n",
       "Name: Location, dtype: object"
      ]
     },
     "execution_count": 1300,
     "metadata": {},
     "output_type": "execute_result"
    }
   ],
   "source": [
    "df6_stats = df6['Location'].describe()\n",
    "df6_stats"
   ]
  },
  {
   "cell_type": "code",
   "execution_count": 1301,
   "metadata": {},
   "outputs": [
    {
     "name": "stderr",
     "output_type": "stream",
     "text": [
      "/var/folders/fp/q0m5t1y91ds296s1c7f_6w1c0000gn/T/ipykernel_24669/1702328137.py:1: UserWarning: Pandas doesn't allow columns to be created via a new attribute name - see https://pandas.pydata.org/pandas-docs/stable/indexing.html#attribute-access\n",
      "  df6.location = df6.Location.apply(lambda x: x.strip())\n"
     ]
    },
    {
     "data": {
      "text/plain": [
       "Location\n",
       "Golf Course Road    229\n",
       "New Gurgaon         220\n",
       "MG Road             214\n",
       "Sohna Road          213\n",
       "Sector 45           208\n",
       "Sector 57           207\n",
       "Cyber City          206\n",
       "DLF Phase 1         204\n",
       "Udyog Vihar         202\n",
       "Sector 56           201\n",
       "Palam Vihar         200\n",
       "DLF Phase 2         196\n",
       "Name: count, dtype: int64"
      ]
     },
     "execution_count": 1301,
     "metadata": {},
     "output_type": "execute_result"
    }
   ],
   "source": [
    "df6.location = df6.Location.apply(lambda x: x.strip())\n",
    "Location_stats = df6 ['Location'].value_counts(ascending=False)\n",
    "Location_stats"
   ]
  },
  {
   "cell_type": "code",
   "execution_count": 1302,
   "metadata": {},
   "outputs": [
    {
     "data": {
      "text/plain": [
       "np.int64(2500)"
      ]
     },
     "execution_count": 1302,
     "metadata": {},
     "output_type": "execute_result"
    }
   ],
   "source": [
    "Location_stats.values.sum()\n"
   ]
  },
  {
   "cell_type": "code",
   "execution_count": 1303,
   "metadata": {},
   "outputs": [
    {
     "data": {
      "text/plain": [
       "12"
      ]
     },
     "execution_count": 1303,
     "metadata": {},
     "output_type": "execute_result"
    }
   ],
   "source": [
    "len(Location_stats[Location_stats>10])"
   ]
  },
  {
   "cell_type": "code",
   "execution_count": 1304,
   "metadata": {},
   "outputs": [
    {
     "data": {
      "text/plain": [
       "12"
      ]
     },
     "execution_count": 1304,
     "metadata": {},
     "output_type": "execute_result"
    }
   ],
   "source": [
    "len(Location_stats)"
   ]
  },
  {
   "cell_type": "code",
   "execution_count": 1305,
   "metadata": {},
   "outputs": [
    {
     "data": {
      "text/plain": [
       "0"
      ]
     },
     "execution_count": 1305,
     "metadata": {},
     "output_type": "execute_result"
    }
   ],
   "source": [
    "len(Location_stats[Location_stats<=10])"
   ]
  },
  {
   "cell_type": "code",
   "execution_count": 1306,
   "metadata": {},
   "outputs": [
    {
     "name": "stderr",
     "output_type": "stream",
     "text": [
      "/var/folders/fp/q0m5t1y91ds296s1c7f_6w1c0000gn/T/ipykernel_24669/1784957467.py:1: UserWarning: Pandas doesn't allow columns to be created via a new attribute name - see https://pandas.pydata.org/pandas-docs/stable/indexing.html#attribute-access\n",
      "  df6.primelocation = df6['Prime Score'].value_counts()\n"
     ]
    },
    {
     "data": {
      "text/plain": [
       "Prime Score\n",
       "6    1047\n",
       "9     624\n",
       "7     428\n",
       "8     401\n",
       "Name: count, dtype: int64"
      ]
     },
     "execution_count": 1306,
     "metadata": {},
     "output_type": "execute_result"
    }
   ],
   "source": [
    "df6.primelocation = df6['Prime Score'].value_counts()\n",
    "df6.primelocation"
   ]
  },
  {
   "cell_type": "code",
   "execution_count": 1307,
   "metadata": {},
   "outputs": [
    {
     "data": {
      "text/plain": [
       "Series([], Name: count, dtype: int64)"
      ]
     },
     "execution_count": 1307,
     "metadata": {},
     "output_type": "execute_result"
    }
   ],
   "source": [
    "Location_stats_less_than_10 = Location_stats[Location_stats<=10]\n",
    "Location_stats_less_than_10"
   ]
  },
  {
   "cell_type": "code",
   "execution_count": 1308,
   "metadata": {},
   "outputs": [
    {
     "data": {
      "text/plain": [
       "12"
      ]
     },
     "execution_count": 1308,
     "metadata": {},
     "output_type": "execute_result"
    }
   ],
   "source": [
    "len(df6.Location.unique())"
   ]
  },
  {
   "cell_type": "code",
   "execution_count": 1309,
   "metadata": {},
   "outputs": [
    {
     "data": {
      "text/html": [
       "<div>\n",
       "<style scoped>\n",
       "    .dataframe tbody tr th:only-of-type {\n",
       "        vertical-align: middle;\n",
       "    }\n",
       "\n",
       "    .dataframe tbody tr th {\n",
       "        vertical-align: top;\n",
       "    }\n",
       "\n",
       "    .dataframe thead th {\n",
       "        text-align: right;\n",
       "    }\n",
       "</style>\n",
       "<table border=\"1\" class=\"dataframe\">\n",
       "  <thead>\n",
       "    <tr style=\"text-align: right;\">\n",
       "      <th></th>\n",
       "      <th>Year</th>\n",
       "      <th>Location</th>\n",
       "      <th>Prime Score</th>\n",
       "      <th>Real Estate Type</th>\n",
       "      <th>Price (in Crores)</th>\n",
       "      <th>Area (sq. ft.)</th>\n",
       "    </tr>\n",
       "  </thead>\n",
       "  <tbody>\n",
       "    <tr>\n",
       "      <th>0</th>\n",
       "      <td>2009-2010</td>\n",
       "      <td>Udyog Vihar</td>\n",
       "      <td>6</td>\n",
       "      <td>Commercial</td>\n",
       "      <td>10.80</td>\n",
       "      <td>3906</td>\n",
       "    </tr>\n",
       "    <tr>\n",
       "      <th>1</th>\n",
       "      <td>2009-2010</td>\n",
       "      <td>Cyber City</td>\n",
       "      <td>9</td>\n",
       "      <td>Commercial</td>\n",
       "      <td>15.85</td>\n",
       "      <td>1629</td>\n",
       "    </tr>\n",
       "    <tr>\n",
       "      <th>2</th>\n",
       "      <td>2009-2010</td>\n",
       "      <td>Udyog Vihar</td>\n",
       "      <td>6</td>\n",
       "      <td>Residential</td>\n",
       "      <td>8.98</td>\n",
       "      <td>2522</td>\n",
       "    </tr>\n",
       "    <tr>\n",
       "      <th>3</th>\n",
       "      <td>2009-2010</td>\n",
       "      <td>Golf Course Road</td>\n",
       "      <td>6</td>\n",
       "      <td>Commercial</td>\n",
       "      <td>9.00</td>\n",
       "      <td>6523</td>\n",
       "    </tr>\n",
       "    <tr>\n",
       "      <th>4</th>\n",
       "      <td>2009-2010</td>\n",
       "      <td>Udyog Vihar</td>\n",
       "      <td>6</td>\n",
       "      <td>Commercial</td>\n",
       "      <td>8.20</td>\n",
       "      <td>6620</td>\n",
       "    </tr>\n",
       "    <tr>\n",
       "      <th>5</th>\n",
       "      <td>2009-2010</td>\n",
       "      <td>Udyog Vihar</td>\n",
       "      <td>6</td>\n",
       "      <td>Industrial</td>\n",
       "      <td>5.82</td>\n",
       "      <td>812</td>\n",
       "    </tr>\n",
       "    <tr>\n",
       "      <th>6</th>\n",
       "      <td>2009-2010</td>\n",
       "      <td>Sohna Road</td>\n",
       "      <td>6</td>\n",
       "      <td>Agricultural</td>\n",
       "      <td>4.10</td>\n",
       "      <td>4647</td>\n",
       "    </tr>\n",
       "    <tr>\n",
       "      <th>7</th>\n",
       "      <td>2009-2010</td>\n",
       "      <td>Udyog Vihar</td>\n",
       "      <td>6</td>\n",
       "      <td>Residential</td>\n",
       "      <td>9.03</td>\n",
       "      <td>8145</td>\n",
       "    </tr>\n",
       "    <tr>\n",
       "      <th>8</th>\n",
       "      <td>2009-2010</td>\n",
       "      <td>Sector 56</td>\n",
       "      <td>8</td>\n",
       "      <td>Special Purpose</td>\n",
       "      <td>5.20</td>\n",
       "      <td>9959</td>\n",
       "    </tr>\n",
       "    <tr>\n",
       "      <th>9</th>\n",
       "      <td>2009-2010</td>\n",
       "      <td>Cyber City</td>\n",
       "      <td>9</td>\n",
       "      <td>Industrial</td>\n",
       "      <td>7.62</td>\n",
       "      <td>2232</td>\n",
       "    </tr>\n",
       "  </tbody>\n",
       "</table>\n",
       "</div>"
      ],
      "text/plain": [
       "        Year          Location  Prime Score Real Estate Type  \\\n",
       "0  2009-2010       Udyog Vihar            6       Commercial   \n",
       "1  2009-2010        Cyber City            9       Commercial   \n",
       "2  2009-2010       Udyog Vihar            6      Residential   \n",
       "3  2009-2010  Golf Course Road            6       Commercial   \n",
       "4  2009-2010       Udyog Vihar            6       Commercial   \n",
       "5  2009-2010       Udyog Vihar            6       Industrial   \n",
       "6  2009-2010        Sohna Road            6     Agricultural   \n",
       "7  2009-2010       Udyog Vihar            6      Residential   \n",
       "8  2009-2010         Sector 56            8  Special Purpose   \n",
       "9  2009-2010        Cyber City            9       Industrial   \n",
       "\n",
       "   Price (in Crores)  Area (sq. ft.)  \n",
       "0              10.80            3906  \n",
       "1              15.85            1629  \n",
       "2               8.98            2522  \n",
       "3               9.00            6523  \n",
       "4               8.20            6620  \n",
       "5               5.82             812  \n",
       "6               4.10            4647  \n",
       "7               9.03            8145  \n",
       "8               5.20            9959  \n",
       "9               7.62            2232  "
      ]
     },
     "execution_count": 1309,
     "metadata": {},
     "output_type": "execute_result"
    }
   ],
   "source": [
    "df6.head(10)"
   ]
  },
  {
   "cell_type": "code",
   "execution_count": 1310,
   "metadata": {},
   "outputs": [
    {
     "data": {
      "text/plain": [
       "count            19515\n",
       "unique            3928\n",
       "top        ₹20,000.00 \n",
       "freq               558\n",
       "Name: Rate per sqft, dtype: object"
      ]
     },
     "execution_count": 1310,
     "metadata": {},
     "output_type": "execute_result"
    }
   ],
   "source": [
    "df5['Rate per sqft'].describe()"
   ]
  },
  {
   "cell_type": "code",
   "execution_count": 1311,
   "metadata": {},
   "outputs": [
    {
     "data": {
      "text/plain": [
       "count    91.000000\n",
       "mean      4.048022\n",
       "std       1.568227\n",
       "min       2.250000\n",
       "25%       3.060000\n",
       "50%       3.600000\n",
       "75%       4.230000\n",
       "max      12.150000\n",
       "Name: commercial (Rs.PerSq. feet. (lakh)), dtype: float64"
      ]
     },
     "execution_count": 1311,
     "metadata": {},
     "output_type": "execute_result"
    }
   ],
   "source": [
    "df1['commercial (Rs.PerSq. feet. (lakh))'].describe()"
   ]
  },
  {
   "cell_type": "code",
   "execution_count": 1312,
   "metadata": {},
   "outputs": [
    {
     "data": {
      "text/plain": [
       "count    74.000000\n",
       "mean     10.699662\n",
       "std       3.713101\n",
       "min       4.050000\n",
       "25%       8.100000\n",
       "50%      10.530000\n",
       "75%      14.580000\n",
       "max      17.820000\n",
       "Name: commercial (Rs.PerSq. feet. (lakh)), dtype: float64"
      ]
     },
     "execution_count": 1312,
     "metadata": {},
     "output_type": "execute_result"
    }
   ],
   "source": [
    "df2['commercial (Rs.PerSq. feet. (lakh))'].describe()"
   ]
  },
  {
   "cell_type": "code",
   "execution_count": 1313,
   "metadata": {},
   "outputs": [
    {
     "data": {
      "text/plain": [
       "count     7.000000\n",
       "mean     13.474286\n",
       "std       3.895976\n",
       "min       7.920000\n",
       "25%      11.025000\n",
       "50%      14.850000\n",
       "75%      14.850000\n",
       "max      19.800000\n",
       "Name: commercial (Rs.PerSq. feet. (lakh)), dtype: float64"
      ]
     },
     "execution_count": 1313,
     "metadata": {},
     "output_type": "execute_result"
    }
   ],
   "source": [
    "df3['commercial (Rs.PerSq. feet. (lakh))'].describe()"
   ]
  },
  {
   "cell_type": "code",
   "execution_count": 1314,
   "metadata": {},
   "outputs": [
    {
     "data": {
      "text/plain": [
       "count     7.000000\n",
       "mean     12.857143\n",
       "std       2.760047\n",
       "min       9.000000\n",
       "25%      10.800000\n",
       "50%      14.850000\n",
       "75%      14.850000\n",
       "max      14.850000\n",
       "Name: commercial (Rs.PerSq. feet. (lakh)), dtype: float64"
      ]
     },
     "execution_count": 1314,
     "metadata": {},
     "output_type": "execute_result"
    }
   ],
   "source": [
    "df4['commercial (Rs.PerSq. feet. (lakh))'].describe()"
   ]
  },
  {
   "cell_type": "code",
   "execution_count": 1315,
   "metadata": {},
   "outputs": [
    {
     "data": {
      "text/plain": [
       "count            19515\n",
       "unique            3928\n",
       "top        ₹20,000.00 \n",
       "freq               558\n",
       "Name: Rate per sqft, dtype: object"
      ]
     },
     "execution_count": 1315,
     "metadata": {},
     "output_type": "execute_result"
    }
   ],
   "source": [
    "df5['Rate per sqft'].describe()"
   ]
  },
  {
   "cell_type": "code",
   "execution_count": 1316,
   "metadata": {},
   "outputs": [
    {
     "data": {
      "text/plain": [
       "(1819, 6)"
      ]
     },
     "execution_count": 1316,
     "metadata": {},
     "output_type": "execute_result"
    }
   ],
   "source": [
    "def remove_pps_outliers(df):\n",
    "    df_out = pd.DataFrame()\n",
    "    for key, subdf in df.groupby('Location'):\n",
    "        m = np.mean(subdf['Price (in Crores)'])\n",
    "        st = np.std(subdf['Price (in Crores)'])\n",
    "        reduced_df = subdf[(subdf['Price (in Crores)'] > (m - st)) & (subdf['Price (in Crores)'] <= (m + st))]\n",
    "        df_out = pd.concat([df_out, reduced_df], ignore_index=True)\n",
    "    return df_out\n",
    "\n",
    "df7 = remove_pps_outliers(df6)\n",
    "df7.shape"
   ]
  },
  {
   "cell_type": "code",
   "execution_count": 1317,
   "metadata": {},
   "outputs": [],
   "source": [
    "file_path = \"1.csv\"  \n",
    "df = pd.read_csv(file_path)"
   ]
  },
  {
   "cell_type": "code",
   "execution_count": 1318,
   "metadata": {},
   "outputs": [
    {
     "name": "stderr",
     "output_type": "stream",
     "text": [
      "/var/folders/fp/q0m5t1y91ds296s1c7f_6w1c0000gn/T/ipykernel_24669/2016952860.py:2: FutureWarning: \n",
      "\n",
      "Passing `palette` without assigning `hue` is deprecated and will be removed in v0.14.0. Assign the `y` variable to `hue` and set `legend=False` for the same effect.\n",
      "\n",
      "  sns.barplot(y='name of colony', x=' residential land (Rs.PerSq. feet. (lakh))', data=df, palette=\"viridis\")\n"
     ]
    },
    {
     "data": {
      "image/png": "[encoded data removed]",
      "text/plain": [
       "<Figure size 1000x9000 with 1 Axes>"
      ]
     },
     "metadata": {},
     "output_type": "display_data"
    }
   ],
   "source": [
    "plt.figure(figsize=(10, 90))\n",
    "sns.barplot(y='name of colony', x=' residential land (Rs.PerSq. feet. (lakh))', data=df, palette=\"viridis\")\n",
    "plt.xlabel(\"Residential Land Rates (Rs. Per Sq. Feet in Lakh)\")\n",
    "plt.ylabel(\"Colony Name\")\n",
    "plt.title(\"Residential Land Rates Comparison\")\n",
    "plt.xticks(rotation=45)\n",
    "plt.show()"
   ]
  },
  {
   "cell_type": "code",
   "execution_count": 1319,
   "metadata": {},
   "outputs": [],
   "source": [
    "file_path = \"2.csv\"  \n",
    "df = pd.read_csv(file_path)"
   ]
  },
  {
   "cell_type": "code",
   "execution_count": 1320,
   "metadata": {},
   "outputs": [
    {
     "data": {
      "image/png": "[encoded data removed]",
      "text/plain": [
       "<Figure size 800x800 with 1 Axes>"
      ]
     },
     "metadata": {},
     "output_type": "display_data"
    }
   ],
   "source": [
    "plt.figure(figsize=(8, 8))\n",
    "numeric_cols = df[['residential land (Rs.PerSq. feet. (lakh))', 'commercial (Rs.PerSq. feet. (lakh))']].sum()\n",
    "numeric_cols.plot(kind=\"pie\", autopct=\"%1.1f%%\", colors=[\"skyblue\", \"orange\"], wedgeprops=dict(width=0.3))\n",
    "plt.title(\"Proportion of Residential vs Commercial Land Rates\")\n",
    "plt.ylabel(\"\")\n",
    "plt.show()"
   ]
  },
  {
   "cell_type": "code",
   "execution_count": 1321,
   "metadata": {},
   "outputs": [],
   "source": [
    "file_path = \"3.csv\"  \n",
    "df = pd.read_csv(file_path)"
   ]
  },
  {
   "cell_type": "code",
   "execution_count": 1322,
   "metadata": {},
   "outputs": [
    {
     "name": "stderr",
     "output_type": "stream",
     "text": [
      "/var/folders/fp/q0m5t1y91ds296s1c7f_6w1c0000gn/T/ipykernel_24669/295512164.py:2: FutureWarning: \n",
      "\n",
      "Passing `palette` without assigning `hue` is deprecated and will be removed in v0.14.0. Assign the `x` variable to `hue` and set `legend=False` for the same effect.\n",
      "\n",
      "  sns.barplot(y='commercial (Rs.PerSq. feet. (lakh))', x='residential land (Rs.PerSq. feet. (lakh))', data=df, palette=\"viridis\")\n"
     ]
    },
    {
     "data": {
      "image/png": "[encoded data removed]",
      "text/plain": [
       "<Figure size 1000x600 with 1 Axes>"
      ]
     },
     "metadata": {},
     "output_type": "display_data"
    }
   ],
   "source": [
    "plt.figure(figsize=(10,6))\n",
    "sns.barplot(y='commercial (Rs.PerSq. feet. (lakh))', x='residential land (Rs.PerSq. feet. (lakh))', data=df, palette=\"viridis\")\n",
    "plt.xlabel(\"Residential Land Rates (Rs. Per Sq. Feet in Lakh)\")\n",
    "plt.ylabel(\"Commercial Land Rates (Rs. Per Sq. Feet in Lakh)\")\n",
    "plt.title(\"HUDA SECTOR WISE LAND RATES\")\n",
    "plt.xticks(rotation=45)\n",
    "plt.show()"
   ]
  },
  {
   "cell_type": "code",
   "execution_count": 1323,
   "metadata": {},
   "outputs": [],
   "source": [
    "file_path = \"4.csv\"  \n",
    "df = pd.read_csv(file_path)"
   ]
  },
  {
   "cell_type": "code",
   "execution_count": 1324,
   "metadata": {},
   "outputs": [
    {
     "data": {
      "text/plain": [
       "<Figure size 1200x800 with 0 Axes>"
      ]
     },
     "metadata": {},
     "output_type": "display_data"
    },
    {
     "data": {
      "image/png": "[encoded data removed]",
      "text/plain": [
       "<Figure size 2000x1000 with 1 Axes>"
      ]
     },
     "metadata": {},
     "output_type": "display_data"
    }
   ],
   "source": [
    "plt.figure(figsize=(12, 8))\n",
    "df.plot(x='plots in liscensed colonies', y=['residential land (Rs.PerSq. feet. (lakh))', 'commercial (Rs.PerSq. feet. (lakh))'], kind='bar')\n",
    "plt.xlabel(\"Plots in Licensed Colonies\")\n",
    "plt.ylabel(\"Land Rates (Rs. Per Sq. Feet in Lakh)\")\n",
    "plt.title(\"Comparison of Residential and Commercial Land Rates\")\n",
    "plt.xticks(rotation=45)\n",
    "plt.legend([\"Residential\", \"Commercial\"])\n",
    "plt.show()\n",
    "df.dropna(inplace=True)"
   ]
  },
  {
   "cell_type": "code",
   "execution_count": 1325,
   "metadata": {},
   "outputs": [],
   "source": [
    "file_path = \"6.csv\"  \n",
    "df = pd.read_csv(file_path)"
   ]
  },
  {
   "cell_type": "code",
   "execution_count": 1326,
   "metadata": {},
   "outputs": [
    {
     "name": "stderr",
     "output_type": "stream",
     "text": [
      "/var/folders/fp/q0m5t1y91ds296s1c7f_6w1c0000gn/T/ipykernel_24669/1280680675.py:2: FutureWarning: \n",
      "\n",
      "Passing `palette` without assigning `hue` is deprecated and will be removed in v0.14.0. Assign the `x` variable to `hue` and set `legend=False` for the same effect.\n",
      "\n",
      "  sns.boxplot(data=df, x='Real Estate Type', y='Year', palette=\"viridis\")\n"
     ]
    },
    {
     "data": {
      "image/png": "[encoded data removed]",
      "text/plain": [
       "<Figure size 1000x1000 with 1 Axes>"
      ]
     },
     "metadata": {},
     "output_type": "display_data"
    }
   ],
   "source": [
    "plt.figure(figsize=(10, 10))\n",
    "sns.boxplot(data=df, x='Real Estate Type', y='Year', palette=\"viridis\")\n",
    "plt.xlabel(\"Real Estate Type\")\n",
    "plt.ylabel(\" Year \")\n",
    "plt.title(\"Box Plot of Residential and Commercial Land Rates\")\n",
    "plt.show()"
   ]
  },
  {
   "cell_type": "code",
   "execution_count": 1327,
   "metadata": {},
   "outputs": [
    {
     "data": {
      "text/html": [
       "<div>\n",
       "<style scoped>\n",
       "    .dataframe tbody tr th:only-of-type {\n",
       "        vertical-align: middle;\n",
       "    }\n",
       "\n",
       "    .dataframe tbody tr th {\n",
       "        vertical-align: top;\n",
       "    }\n",
       "\n",
       "    .dataframe thead th {\n",
       "        text-align: right;\n",
       "    }\n",
       "</style>\n",
       "<table border=\"1\" class=\"dataframe\">\n",
       "  <thead>\n",
       "    <tr style=\"text-align: right;\">\n",
       "      <th></th>\n",
       "      <th>Cyber City</th>\n",
       "      <th>DLF Phase 1</th>\n",
       "      <th>DLF Phase 2</th>\n",
       "      <th>Golf Course Road</th>\n",
       "      <th>MG Road</th>\n",
       "      <th>New Gurgaon</th>\n",
       "      <th>Palam Vihar</th>\n",
       "      <th>Sector 45</th>\n",
       "      <th>Sector 56</th>\n",
       "      <th>Sector 57</th>\n",
       "      <th>Sohna Road</th>\n",
       "      <th>Udyog Vihar</th>\n",
       "    </tr>\n",
       "  </thead>\n",
       "  <tbody>\n",
       "    <tr>\n",
       "      <th>0</th>\n",
       "      <td>False</td>\n",
       "      <td>False</td>\n",
       "      <td>False</td>\n",
       "      <td>False</td>\n",
       "      <td>False</td>\n",
       "      <td>False</td>\n",
       "      <td>False</td>\n",
       "      <td>False</td>\n",
       "      <td>False</td>\n",
       "      <td>False</td>\n",
       "      <td>False</td>\n",
       "      <td>True</td>\n",
       "    </tr>\n",
       "    <tr>\n",
       "      <th>1</th>\n",
       "      <td>True</td>\n",
       "      <td>False</td>\n",
       "      <td>False</td>\n",
       "      <td>False</td>\n",
       "      <td>False</td>\n",
       "      <td>False</td>\n",
       "      <td>False</td>\n",
       "      <td>False</td>\n",
       "      <td>False</td>\n",
       "      <td>False</td>\n",
       "      <td>False</td>\n",
       "      <td>False</td>\n",
       "    </tr>\n",
       "    <tr>\n",
       "      <th>2</th>\n",
       "      <td>False</td>\n",
       "      <td>False</td>\n",
       "      <td>False</td>\n",
       "      <td>False</td>\n",
       "      <td>False</td>\n",
       "      <td>False</td>\n",
       "      <td>False</td>\n",
       "      <td>False</td>\n",
       "      <td>False</td>\n",
       "      <td>False</td>\n",
       "      <td>False</td>\n",
       "      <td>True</td>\n",
       "    </tr>\n",
       "  </tbody>\n",
       "</table>\n",
       "</div>"
      ],
      "text/plain": [
       "   Cyber City  DLF Phase 1  DLF Phase 2  Golf Course Road  MG Road  \\\n",
       "0       False        False        False             False    False   \n",
       "1        True        False        False             False    False   \n",
       "2       False        False        False             False    False   \n",
       "\n",
       "   New Gurgaon  Palam Vihar  Sector 45  Sector 56  Sector 57  Sohna Road  \\\n",
       "0        False        False      False      False      False       False   \n",
       "1        False        False      False      False      False       False   \n",
       "2        False        False      False      False      False       False   \n",
       "\n",
       "   Udyog Vihar  \n",
       "0         True  \n",
       "1        False  \n",
       "2         True  "
      ]
     },
     "execution_count": 1327,
     "metadata": {},
     "output_type": "execute_result"
    }
   ],
   "source": [
    "dummies = pd.get_dummies(df6.Location)\n",
    "dummies.head(3)"
   ]
  },
  {
   "cell_type": "code",
   "execution_count": 1328,
   "metadata": {},
   "outputs": [
    {
     "data": {
      "text/html": [
       "<div>\n",
       "<style scoped>\n",
       "    .dataframe tbody tr th:only-of-type {\n",
       "        vertical-align: middle;\n",
       "    }\n",
       "\n",
       "    .dataframe tbody tr th {\n",
       "        vertical-align: top;\n",
       "    }\n",
       "\n",
       "    .dataframe thead th {\n",
       "        text-align: right;\n",
       "    }\n",
       "</style>\n",
       "<table border=\"1\" class=\"dataframe\">\n",
       "  <thead>\n",
       "    <tr style=\"text-align: right;\">\n",
       "      <th></th>\n",
       "      <th>Year</th>\n",
       "      <th>Prime Score</th>\n",
       "      <th>Real Estate Type</th>\n",
       "      <th>Price (in Crores)</th>\n",
       "      <th>Area (sq. ft.)</th>\n",
       "    </tr>\n",
       "  </thead>\n",
       "  <tbody>\n",
       "    <tr>\n",
       "      <th>0</th>\n",
       "      <td>2009-2010</td>\n",
       "      <td>6</td>\n",
       "      <td>Commercial</td>\n",
       "      <td>10.80</td>\n",
       "      <td>3906</td>\n",
       "    </tr>\n",
       "    <tr>\n",
       "      <th>1</th>\n",
       "      <td>2009-2010</td>\n",
       "      <td>9</td>\n",
       "      <td>Commercial</td>\n",
       "      <td>15.85</td>\n",
       "      <td>1629</td>\n",
       "    </tr>\n",
       "  </tbody>\n",
       "</table>\n",
       "</div>"
      ],
      "text/plain": [
       "        Year  Prime Score Real Estate Type  Price (in Crores)  Area (sq. ft.)\n",
       "0  2009-2010            6       Commercial              10.80            3906\n",
       "1  2009-2010            9       Commercial              15.85            1629"
      ]
     },
     "execution_count": 1328,
     "metadata": {},
     "output_type": "execute_result"
    }
   ],
   "source": [
    "df7 = df6.drop('Location',axis='columns')\n",
    "df7.head(2)"
   ]
  },
  {
   "cell_type": "code",
   "execution_count": 1329,
   "metadata": {},
   "outputs": [
    {
     "data": {
      "text/html": [
       "<div>\n",
       "<style scoped>\n",
       "    .dataframe tbody tr th:only-of-type {\n",
       "        vertical-align: middle;\n",
       "    }\n",
       "\n",
       "    .dataframe tbody tr th {\n",
       "        vertical-align: top;\n",
       "    }\n",
       "\n",
       "    .dataframe thead th {\n",
       "        text-align: right;\n",
       "    }\n",
       "</style>\n",
       "<table border=\"1\" class=\"dataframe\">\n",
       "  <thead>\n",
       "    <tr style=\"text-align: right;\">\n",
       "      <th></th>\n",
       "      <th>Year</th>\n",
       "      <th>Location</th>\n",
       "      <th>Prime Score</th>\n",
       "      <th>Real Estate Type</th>\n",
       "      <th>Area (sq. ft.)</th>\n",
       "      <th>Cyber City</th>\n",
       "      <th>DLF Phase 1</th>\n",
       "      <th>DLF Phase 2</th>\n",
       "      <th>Golf Course Road</th>\n",
       "      <th>MG Road</th>\n",
       "      <th>New Gurgaon</th>\n",
       "      <th>Palam Vihar</th>\n",
       "      <th>Sector 45</th>\n",
       "      <th>Sector 56</th>\n",
       "      <th>Sector 57</th>\n",
       "      <th>Sohna Road</th>\n",
       "      <th>Udyog Vihar</th>\n",
       "    </tr>\n",
       "  </thead>\n",
       "  <tbody>\n",
       "    <tr>\n",
       "      <th>0</th>\n",
       "      <td>2009-2010</td>\n",
       "      <td>Udyog Vihar</td>\n",
       "      <td>6</td>\n",
       "      <td>Commercial</td>\n",
       "      <td>3906</td>\n",
       "      <td>False</td>\n",
       "      <td>False</td>\n",
       "      <td>False</td>\n",
       "      <td>False</td>\n",
       "      <td>False</td>\n",
       "      <td>False</td>\n",
       "      <td>False</td>\n",
       "      <td>False</td>\n",
       "      <td>False</td>\n",
       "      <td>False</td>\n",
       "      <td>False</td>\n",
       "      <td>True</td>\n",
       "    </tr>\n",
       "    <tr>\n",
       "      <th>1</th>\n",
       "      <td>2009-2010</td>\n",
       "      <td>Cyber City</td>\n",
       "      <td>9</td>\n",
       "      <td>Commercial</td>\n",
       "      <td>1629</td>\n",
       "      <td>True</td>\n",
       "      <td>False</td>\n",
       "      <td>False</td>\n",
       "      <td>False</td>\n",
       "      <td>False</td>\n",
       "      <td>False</td>\n",
       "      <td>False</td>\n",
       "      <td>False</td>\n",
       "      <td>False</td>\n",
       "      <td>False</td>\n",
       "      <td>False</td>\n",
       "      <td>False</td>\n",
       "    </tr>\n",
       "    <tr>\n",
       "      <th>2</th>\n",
       "      <td>2009-2010</td>\n",
       "      <td>Udyog Vihar</td>\n",
       "      <td>6</td>\n",
       "      <td>Residential</td>\n",
       "      <td>2522</td>\n",
       "      <td>False</td>\n",
       "      <td>False</td>\n",
       "      <td>False</td>\n",
       "      <td>False</td>\n",
       "      <td>False</td>\n",
       "      <td>False</td>\n",
       "      <td>False</td>\n",
       "      <td>False</td>\n",
       "      <td>False</td>\n",
       "      <td>False</td>\n",
       "      <td>False</td>\n",
       "      <td>True</td>\n",
       "    </tr>\n",
       "    <tr>\n",
       "      <th>3</th>\n",
       "      <td>2009-2010</td>\n",
       "      <td>Golf Course Road</td>\n",
       "      <td>6</td>\n",
       "      <td>Commercial</td>\n",
       "      <td>6523</td>\n",
       "      <td>False</td>\n",
       "      <td>False</td>\n",
       "      <td>False</td>\n",
       "      <td>True</td>\n",
       "      <td>False</td>\n",
       "      <td>False</td>\n",
       "      <td>False</td>\n",
       "      <td>False</td>\n",
       "      <td>False</td>\n",
       "      <td>False</td>\n",
       "      <td>False</td>\n",
       "      <td>False</td>\n",
       "    </tr>\n",
       "    <tr>\n",
       "      <th>4</th>\n",
       "      <td>2009-2010</td>\n",
       "      <td>Udyog Vihar</td>\n",
       "      <td>6</td>\n",
       "      <td>Commercial</td>\n",
       "      <td>6620</td>\n",
       "      <td>False</td>\n",
       "      <td>False</td>\n",
       "      <td>False</td>\n",
       "      <td>False</td>\n",
       "      <td>False</td>\n",
       "      <td>False</td>\n",
       "      <td>False</td>\n",
       "      <td>False</td>\n",
       "      <td>False</td>\n",
       "      <td>False</td>\n",
       "      <td>False</td>\n",
       "      <td>True</td>\n",
       "    </tr>\n",
       "  </tbody>\n",
       "</table>\n",
       "</div>"
      ],
      "text/plain": [
       "        Year          Location  Prime Score Real Estate Type  Area (sq. ft.)  \\\n",
       "0  2009-2010       Udyog Vihar            6       Commercial            3906   \n",
       "1  2009-2010        Cyber City            9       Commercial            1629   \n",
       "2  2009-2010       Udyog Vihar            6      Residential            2522   \n",
       "3  2009-2010  Golf Course Road            6       Commercial            6523   \n",
       "4  2009-2010       Udyog Vihar            6       Commercial            6620   \n",
       "\n",
       "   Cyber City  DLF Phase 1  DLF Phase 2  Golf Course Road  MG Road  \\\n",
       "0       False        False        False             False    False   \n",
       "1        True        False        False             False    False   \n",
       "2       False        False        False             False    False   \n",
       "3       False        False        False              True    False   \n",
       "4       False        False        False             False    False   \n",
       "\n",
       "   New Gurgaon  Palam Vihar  Sector 45  Sector 56  Sector 57  Sohna Road  \\\n",
       "0        False        False      False      False      False       False   \n",
       "1        False        False      False      False      False       False   \n",
       "2        False        False      False      False      False       False   \n",
       "3        False        False      False      False      False       False   \n",
       "4        False        False      False      False      False       False   \n",
       "\n",
       "   Udyog Vihar  \n",
       "0         True  \n",
       "1        False  \n",
       "2         True  \n",
       "3        False  \n",
       "4         True  "
      ]
     },
     "execution_count": 1329,
     "metadata": {},
     "output_type": "execute_result"
    }
   ],
   "source": [
    "df7 = pd.concat([df6.drop('Price (in Crores)', axis='columns'), dummies], axis=1)\n",
    "df7.head()"
   ]
  },
  {
   "cell_type": "code",
   "execution_count": 1330,
   "metadata": {},
   "outputs": [
    {
     "data": {
      "text/plain": [
       "(2500, 17)"
      ]
     },
     "execution_count": 1330,
     "metadata": {},
     "output_type": "execute_result"
    }
   ],
   "source": [
    "df7.shape"
   ]
  },
  {
   "cell_type": "code",
   "execution_count": 1331,
   "metadata": {},
   "outputs": [
    {
     "data": {
      "text/html": [
       "<div>\n",
       "<style scoped>\n",
       "    .dataframe tbody tr th:only-of-type {\n",
       "        vertical-align: middle;\n",
       "    }\n",
       "\n",
       "    .dataframe tbody tr th {\n",
       "        vertical-align: top;\n",
       "    }\n",
       "\n",
       "    .dataframe thead th {\n",
       "        text-align: right;\n",
       "    }\n",
       "</style>\n",
       "<table border=\"1\" class=\"dataframe\">\n",
       "  <thead>\n",
       "    <tr style=\"text-align: right;\">\n",
       "      <th></th>\n",
       "      <th>Year</th>\n",
       "      <th>Location</th>\n",
       "      <th>Prime Score</th>\n",
       "      <th>Real Estate Type</th>\n",
       "      <th>Area (sq. ft.)</th>\n",
       "    </tr>\n",
       "  </thead>\n",
       "  <tbody>\n",
       "    <tr>\n",
       "      <th>0</th>\n",
       "      <td>2009-2010</td>\n",
       "      <td>Udyog Vihar</td>\n",
       "      <td>6</td>\n",
       "      <td>Commercial</td>\n",
       "      <td>3906</td>\n",
       "    </tr>\n",
       "    <tr>\n",
       "      <th>1</th>\n",
       "      <td>2009-2010</td>\n",
       "      <td>Cyber City</td>\n",
       "      <td>9</td>\n",
       "      <td>Commercial</td>\n",
       "      <td>1629</td>\n",
       "    </tr>\n",
       "    <tr>\n",
       "      <th>2</th>\n",
       "      <td>2009-2010</td>\n",
       "      <td>Udyog Vihar</td>\n",
       "      <td>6</td>\n",
       "      <td>Residential</td>\n",
       "      <td>2522</td>\n",
       "    </tr>\n",
       "  </tbody>\n",
       "</table>\n",
       "</div>"
      ],
      "text/plain": [
       "        Year     Location  Prime Score Real Estate Type  Area (sq. ft.)\n",
       "0  2009-2010  Udyog Vihar            6       Commercial            3906\n",
       "1  2009-2010   Cyber City            9       Commercial            1629\n",
       "2  2009-2010  Udyog Vihar            6      Residential            2522"
      ]
     },
     "execution_count": 1331,
     "metadata": {},
     "output_type": "execute_result"
    }
   ],
   "source": [
    "X = df6.drop(['Price (in Crores)'],axis='columns')\n",
    "X.head(3)"
   ]
  },
  {
   "cell_type": "code",
   "execution_count": 1332,
   "metadata": {},
   "outputs": [
    {
     "data": {
      "text/plain": [
       "(2500, 5)"
      ]
     },
     "execution_count": 1332,
     "metadata": {},
     "output_type": "execute_result"
    }
   ],
   "source": [
    "X.shape"
   ]
  },
  {
   "cell_type": "code",
   "execution_count": 1333,
   "metadata": {},
   "outputs": [
    {
     "data": {
      "text/plain": [
       "0    10.80\n",
       "1    15.85\n",
       "2     8.98\n",
       "Name: Price (in Crores), dtype: float64"
      ]
     },
     "execution_count": 1333,
     "metadata": {},
     "output_type": "execute_result"
    }
   ],
   "source": [
    "y = df6['Price (in Crores)']\n",
    "y.head(3)"
   ]
  },
  {
   "cell_type": "code",
   "execution_count": 1334,
   "metadata": {},
   "outputs": [
    {
     "data": {
      "text/plain": [
       "2500"
      ]
     },
     "execution_count": 1334,
     "metadata": {},
     "output_type": "execute_result"
    }
   ],
   "source": [
    "len(y)"
   ]
  },
  {
   "cell_type": "code",
   "execution_count": 1335,
   "metadata": {},
   "outputs": [],
   "source": [
    "from sklearn.model_selection import train_test_split\n",
    "X_train, X_test, y_train, y_test = train_test_split(X,y,test_size=0.2,random_state=10)"
   ]
  },
  {
   "cell_type": "code",
   "execution_count": 1336,
   "metadata": {},
   "outputs": [],
   "source": [
    "from sklearn.linear_model import LinearRegression\n",
    "lr_clf = LinearRegression()\n"
   ]
  },
  {
   "cell_type": "code",
   "execution_count": 1337,
   "metadata": {},
   "outputs": [
    {
     "data": {
      "text/plain": [
       "array([0.45204423, 0.46408597, 0.50151819, 0.49972766, 0.45638318])"
      ]
     },
     "execution_count": 1337,
     "metadata": {},
     "output_type": "execute_result"
    }
   ],
   "source": [
    "from sklearn.model_selection import ShuffleSplit\n",
    "from sklearn.model_selection import cross_val_score\n",
    "from sklearn.preprocessing import LabelEncoder\n",
    "\n",
    "cv = ShuffleSplit(n_splits=5, test_size=0.2, random_state=0)\n",
    "\n",
    "label_encoder = LabelEncoder()\n",
    "X['Year'] = label_encoder.fit_transform(X['Year'])\n",
    "X['Location'] = label_encoder.fit_transform(X['Location'])\n",
    "X['Real Estate Type'] = label_encoder.fit_transform(X['Real Estate Type'])\n",
    "\n",
    "cross_val_score(LinearRegression(), X, y, cv=cv)"
   ]
  },
  {
   "cell_type": "code",
   "execution_count": 1338,
   "metadata": {},
   "outputs": [
    {
     "name": "stderr",
     "output_type": "stream",
     "text": [
      "/Library/Frameworks/Python.framework/Versions/3.12/lib/python3.12/site-packages/sklearn/model_selection/_validation.py:540: FitFailedWarning: \n",
      "10 fits failed out of a total of 20.\n",
      "The score on these train-test partitions for these parameters will be set to nan.\n",
      "If these failures are not expected, you can try to debug them by setting error_score='raise'.\n",
      "\n",
      "Below are more details about the failures:\n",
      "--------------------------------------------------------------------------------\n",
      "10 fits failed with the following error:\n",
      "Traceback (most recent call last):\n",
      "  File \"/Library/Frameworks/Python.framework/Versions/3.12/lib/python3.12/site-packages/sklearn/model_selection/_validation.py\", line 888, in _fit_and_score\n",
      "    estimator.fit(X_train, y_train, **fit_params)\n",
      "  File \"/Library/Frameworks/Python.framework/Versions/3.12/lib/python3.12/site-packages/sklearn/base.py\", line 1466, in wrapper\n",
      "    estimator._validate_params()\n",
      "  File \"/Library/Frameworks/Python.framework/Versions/3.12/lib/python3.12/site-packages/sklearn/base.py\", line 666, in _validate_params\n",
      "    validate_parameter_constraints(\n",
      "  File \"/Library/Frameworks/Python.framework/Versions/3.12/lib/python3.12/site-packages/sklearn/utils/_param_validation.py\", line 95, in validate_parameter_constraints\n",
      "    raise InvalidParameterError(\n",
      "sklearn.utils._param_validation.InvalidParameterError: The 'criterion' parameter of DecisionTreeRegressor must be a str among {'poisson', 'absolute_error', 'friedman_mse', 'squared_error'}. Got 'mse' instead.\n",
      "\n",
      "  warnings.warn(some_fits_failed_message, FitFailedWarning)\n",
      "/Library/Frameworks/Python.framework/Versions/3.12/lib/python3.12/site-packages/sklearn/model_selection/_search.py:1103: UserWarning: One or more of the test scores are non-finite: [       nan        nan 0.96038424 0.95897782]\n",
      "  warnings.warn(\n"
     ]
    },
    {
     "data": {
      "text/html": [
       "<div>\n",
       "<style scoped>\n",
       "    .dataframe tbody tr th:only-of-type {\n",
       "        vertical-align: middle;\n",
       "    }\n",
       "\n",
       "    .dataframe tbody tr th {\n",
       "        vertical-align: top;\n",
       "    }\n",
       "\n",
       "    .dataframe thead th {\n",
       "        text-align: right;\n",
       "    }\n",
       "</style>\n",
       "<table border=\"1\" class=\"dataframe\">\n",
       "  <thead>\n",
       "    <tr style=\"text-align: right;\">\n",
       "      <th></th>\n",
       "      <th>model</th>\n",
       "      <th>best_score</th>\n",
       "      <th>best_params</th>\n",
       "    </tr>\n",
       "  </thead>\n",
       "  <tbody>\n",
       "    <tr>\n",
       "      <th>0</th>\n",
       "      <td>linear_regression</td>\n",
       "      <td>0.474752</td>\n",
       "      <td>{'fit_intercept': True}</td>\n",
       "    </tr>\n",
       "    <tr>\n",
       "      <th>1</th>\n",
       "      <td>lasso</td>\n",
       "      <td>0.457105</td>\n",
       "      <td>{'alpha': 1, 'selection': 'cyclic'}</td>\n",
       "    </tr>\n",
       "    <tr>\n",
       "      <th>2</th>\n",
       "      <td>decision_tree</td>\n",
       "      <td>0.960384</td>\n",
       "      <td>{'criterion': 'friedman_mse', 'splitter': 'best'}</td>\n",
       "    </tr>\n",
       "  </tbody>\n",
       "</table>\n",
       "</div>"
      ],
      "text/plain": [
       "               model  best_score  \\\n",
       "0  linear_regression    0.474752   \n",
       "1              lasso    0.457105   \n",
       "2      decision_tree    0.960384   \n",
       "\n",
       "                                         best_params  \n",
       "0                            {'fit_intercept': True}  \n",
       "1                {'alpha': 1, 'selection': 'cyclic'}  \n",
       "2  {'criterion': 'friedman_mse', 'splitter': 'best'}  "
      ]
     },
     "execution_count": 1338,
     "metadata": {},
     "output_type": "execute_result"
    }
   ],
   "source": [
    "from sklearn.model_selection import GridSearchCV\n",
    "\n",
    "from sklearn.linear_model import Lasso\n",
    "from sklearn.tree import DecisionTreeRegressor\n",
    "\n",
    "def find_best_model_using_gridsearchcv(X,y):\n",
    "    algos = {\n",
    "        'linear_regression' : {\n",
    "            'model': LinearRegression(),\n",
    "            'params': {\n",
    "                'fit_intercept': [True, False]\n",
    "            }\n",
    "        },\n",
    "        'lasso': {\n",
    "            'model': Lasso(),\n",
    "            'params': {\n",
    "                'alpha': [1,2],\n",
    "                'selection': ['random', 'cyclic']\n",
    "            }\n",
    "        },\n",
    "        'decision_tree': {\n",
    "            'model': DecisionTreeRegressor(),\n",
    "            'params': {\n",
    "                'criterion' : ['mse','friedman_mse'],\n",
    "                'splitter': ['best','random']\n",
    "            }\n",
    "        }\n",
    "    }\n",
    "    scores = []\n",
    "    cv = ShuffleSplit(n_splits=5, test_size=0.2, random_state=0)\n",
    "    for algo_name, config in algos.items():\n",
    "        gs =  GridSearchCV(config['model'], config['params'], cv=cv, return_train_score=False)\n",
    "        gs.fit(X,y)\n",
    "        scores.append({\n",
    "            'model': algo_name,\n",
    "            'best_score': gs.best_score_,\n",
    "            'best_params': gs.best_params_\n",
    "        })\n",
    "\n",
    "    return pd.DataFrame(scores,columns=['model','best_score','best_params'])\n",
    "\n",
    "find_best_model_using_gridsearchcv(X,y)"
   ]
  },
  {
   "cell_type": "code",
   "execution_count": 1339,
   "metadata": {},
   "outputs": [],
   "source": [
    "def predict_price(ocation, RealEstate, Year, Price):    \n",
    "    loc_index = np.where(X.columns==location)[0][0]\n",
    "\n",
    "    x = np.zeros(len(X.columns))\n",
    "    x[0] = sqft\n",
    "    x[1] = bath\n",
    "    x[2] = bhk\n",
    "    if loc_index >= 0:\n",
    "        x[loc_index] = 1\n",
    "\n",
    "    return lr_clf.predict([x])[0]"
   ]
  },
  {
   "cell_type": "code",
   "execution_count": 1340,
   "metadata": {},
   "outputs": [
    {
     "data": {
      "text/plain": [
       "'Location not found in the dataset'"
      ]
     },
     "execution_count": 1340,
     "metadata": {},
     "output_type": "execute_result"
    }
   ],
   "source": [
    "def predict_price(Location, RealEstate, Year, Price):\n",
    "\t    \n",
    "\tif Location not in X.columns:\n",
    "\t\treturn \"Location not found in the dataset\"\n",
    "\t\n",
    "\tloc_index = np.where(X.columns == location)[0][0]\n",
    "\n",
    "\tx = np.zeros(len(X.columns))\n",
    "\tx[0] = sqft\n",
    "\tx[1] = RealEstate\n",
    "\tx[2] = Year\n",
    "\tx[3] = Price\n",
    "\tif loc_index >= 0:\n",
    "\t\tx[loc_index] = 1\n",
    "\n",
    "\treturn lr_clf.predict([x])[0]\n",
    "\n",
    "predict_price('Cyber City', 'Commercial', 2021, 1000000 )"
   ]
  },
  {
   "cell_type": "code",
   "execution_count": 1341,
   "metadata": {},
   "outputs": [],
   "source": [
    "#import pickle\n",
    "#with open('banglore_home_prices_model.pickle','wb') as f:\n",
    "#    pickle.dump(lr_clf,f)"
   ]
  },
  {
   "cell_type": "code",
   "execution_count": 1342,
   "metadata": {},
   "outputs": [],
   "source": [
    "#import json\n",
    "#columns = {\n",
    "#    'data_columns' : [col.lower() for col in X.columns]\n",
    "#}\n",
    "#with open(\"columns.json\",\"w\") as f:\n",
    "#    f.write(json.dumps(columns))"
   ]
  }
 ],
 "metadata": {
  "kernelspec": {
   "display_name": "Python 3",
   "language": "python",
   "name": "python3"
  },
  "language_info": {
   "codemirror_mode": {
    "name": "ipython",
    "version": 3
   },
   "file_extension": ".py",
   "mimetype": "text/x-python",
   "name": "python",
   "nbconvert_exporter": "python",
   "pygments_lexer": "ipython3",
   "version": "3.12.5"
  }
 },
 "nbformat": 4,
 "nbformat_minor": 2
}
